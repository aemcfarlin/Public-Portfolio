{
 "cells": [
  {
   "cell_type": "markdown",
   "id": "elegant-motivation",
   "metadata": {},
   "source": [
    "# Votes vs. Vaccinations\n",
    "\n",
    "Recently, I spotted a curious swarm chart in NPR's coverage of the Covid-19 vaccine rollout <a href=\"https://www.npr.org/sections/health-shots/2021/01/28/960901166/how-is-the-covid-19-vaccination-campaign-going-in-your-state\">here</a> under the section, \"Which States Are Leading In The Race To Get Their Populations Vaccinated?\" \n",
    "\n",
    "When states are sorted by percent of the population who is fully vaccinated, there are a few states out ahead, a few behind, and a bunch in the middle. Interestingly, when states are sorted by percent of the population who has received at least one dose, a different pattern emerges: two distinct clumps. Why?\n",
    "\n",
    "It occurred to me that the fully vaccinated data reflect the supply and demand of vaccine at least 3-4 weeks ago, in order for those people to have received both doses. On the other hand, the at least one dose data reflects the situation right now. One explanation would be that a month ago, vaccine uptake was limited by the supply of vaccine and now, vaccine uptake is limited by the supply of willing arms. A cursory glance at the two clumps leads to an obvious hypothsis on what makes arms willing: political alignment. Does percentage of a state populations who voted for Trump in 2020 correlate with the percentage with at least one dose of Covid-19 vaccine as of May 20th, 2021?\n",
    "\n",
    "## Data Sources\n",
    "\n",
    "Data on percent vaccination by state is from the CDC: \n",
    "https://covid.cdc.gov/covid-data-tracker/#vaccinations\n",
    "\n",
    "Data on percent Trump votes by state is from the Cook Political Report:\n",
    "https://cookpolitical.com/2020-national-popular-vote-tracker\n",
    "\n",
    "Neither dataset had each state's population directly, so I calculated this from the number of total vaccines delivered to each state and the vaccines per 100K delivered to each state, which were included in the CDC data. "
   ]
  },
  {
   "cell_type": "code",
   "execution_count": 143,
   "id": "balanced-german",
   "metadata": {},
   "outputs": [],
   "source": [
    "import pandas as pd\n",
    "import plotly.express as px\n",
    "from scipy.stats import pearsonr"
   ]
  },
  {
   "cell_type": "code",
   "execution_count": 144,
   "id": "honest-closing",
   "metadata": {},
   "outputs": [
    {
     "data": {
      "text/html": [
       "<div>\n",
       "<style scoped>\n",
       "    .dataframe tbody tr th:only-of-type {\n",
       "        vertical-align: middle;\n",
       "    }\n",
       "\n",
       "    .dataframe tbody tr th {\n",
       "        vertical-align: top;\n",
       "    }\n",
       "\n",
       "    .dataframe thead th {\n",
       "        text-align: right;\n",
       "    }\n",
       "</style>\n",
       "<table border=\"1\" class=\"dataframe\">\n",
       "  <thead>\n",
       "    <tr style=\"text-align: right;\">\n",
       "      <th></th>\n",
       "      <th>state</th>\n",
       "      <th>rep_percent</th>\n",
       "    </tr>\n",
       "  </thead>\n",
       "  <tbody>\n",
       "    <tr>\n",
       "      <th>0</th>\n",
       "      <td>U.S. Total</td>\n",
       "      <td>46.9</td>\n",
       "    </tr>\n",
       "    <tr>\n",
       "      <th>1</th>\n",
       "      <td>15 Key Battlegrounds</td>\n",
       "      <td>50.1</td>\n",
       "    </tr>\n",
       "    <tr>\n",
       "      <th>2</th>\n",
       "      <td>Non-Battlegrounds</td>\n",
       "      <td>44.5</td>\n",
       "    </tr>\n",
       "    <tr>\n",
       "      <th>4</th>\n",
       "      <td>Arizona</td>\n",
       "      <td>49.1</td>\n",
       "    </tr>\n",
       "    <tr>\n",
       "      <th>5</th>\n",
       "      <td>Florida</td>\n",
       "      <td>51.2</td>\n",
       "    </tr>\n",
       "  </tbody>\n",
       "</table>\n",
       "</div>"
      ],
      "text/plain": [
       "                  state  rep_percent\n",
       "0            U.S. Total         46.9\n",
       "1  15 Key Battlegrounds         50.1\n",
       "2     Non-Battlegrounds         44.5\n",
       "4               Arizona         49.1\n",
       "5               Florida         51.2"
      ]
     },
     "execution_count": 144,
     "metadata": {},
     "output_type": "execute_result"
    }
   ],
   "source": [
    "# Read in election data\n",
    "\n",
    "votes = pd.read_csv(\"./data/Cook_Report_2020_popular_vote.csv\")[[\"state\", \"rep_percent\"]].dropna()\n",
    "\n",
    "# Percent who voted Republican is a string ending in a percent sign. Strip the % and convert to float.\n",
    "\n",
    "votes[\"rep_percent\"] = votes[\"rep_percent\"].str.replace(\"%\", \"\")\n",
    "votes[\"rep_percent\"] = pd.to_numeric(votes[\"rep_percent\"])\n",
    "votes.head()"
   ]
  },
  {
   "cell_type": "code",
   "execution_count": 145,
   "id": "developmental-venezuela",
   "metadata": {},
   "outputs": [
    {
     "data": {
      "text/html": [
       "<div>\n",
       "<style scoped>\n",
       "    .dataframe tbody tr th:only-of-type {\n",
       "        vertical-align: middle;\n",
       "    }\n",
       "\n",
       "    .dataframe tbody tr th {\n",
       "        vertical-align: top;\n",
       "    }\n",
       "\n",
       "    .dataframe thead th {\n",
       "        text-align: right;\n",
       "    }\n",
       "</style>\n",
       "<table border=\"1\" class=\"dataframe\">\n",
       "  <thead>\n",
       "    <tr style=\"text-align: right;\">\n",
       "      <th></th>\n",
       "      <th>State/Territory/Federal Entity</th>\n",
       "      <th>Total Doses Delivered</th>\n",
       "      <th>Doses Delivered per 100K</th>\n",
       "      <th>Percent of 18+ Pop with at least One Dose by State of Residence</th>\n",
       "    </tr>\n",
       "  </thead>\n",
       "  <tbody>\n",
       "    <tr>\n",
       "      <th>0</th>\n",
       "      <td>Alaska</td>\n",
       "      <td>799005</td>\n",
       "      <td>109222.0</td>\n",
       "      <td>56.8</td>\n",
       "    </tr>\n",
       "    <tr>\n",
       "      <th>1</th>\n",
       "      <td>Alabama</td>\n",
       "      <td>4415280</td>\n",
       "      <td>90049.0</td>\n",
       "      <td>44.8</td>\n",
       "    </tr>\n",
       "    <tr>\n",
       "      <th>2</th>\n",
       "      <td>Arkansas</td>\n",
       "      <td>2729400</td>\n",
       "      <td>90443.0</td>\n",
       "      <td>48.6</td>\n",
       "    </tr>\n",
       "    <tr>\n",
       "      <th>3</th>\n",
       "      <td>American Samoa</td>\n",
       "      <td>54030</td>\n",
       "      <td>97021.0</td>\n",
       "      <td>50.9</td>\n",
       "    </tr>\n",
       "    <tr>\n",
       "      <th>4</th>\n",
       "      <td>Arizona</td>\n",
       "      <td>7577625</td>\n",
       "      <td>104107.0</td>\n",
       "      <td>55.8</td>\n",
       "    </tr>\n",
       "  </tbody>\n",
       "</table>\n",
       "</div>"
      ],
      "text/plain": [
       "  State/Territory/Federal Entity  Total Doses Delivered  \\\n",
       "0                         Alaska                 799005   \n",
       "1                        Alabama                4415280   \n",
       "2                       Arkansas                2729400   \n",
       "3                 American Samoa                  54030   \n",
       "4                        Arizona                7577625   \n",
       "\n",
       "   Doses Delivered per 100K  \\\n",
       "0                  109222.0   \n",
       "1                   90049.0   \n",
       "2                   90443.0   \n",
       "3                   97021.0   \n",
       "4                  104107.0   \n",
       "\n",
       "   Percent of 18+ Pop with at least One Dose by State of Residence  \n",
       "0                                               56.8                \n",
       "1                                               44.8                \n",
       "2                                               48.6                \n",
       "3                                               50.9                \n",
       "4                                               55.8                "
      ]
     },
     "execution_count": 145,
     "metadata": {},
     "output_type": "execute_result"
    }
   ],
   "source": [
    "# Read in vaccination data\n",
    "\n",
    "cols_to_keep = [\"State/Territory/Federal Entity\", \"Total Doses Delivered\", \"Doses Delivered per 100K\",\n",
    "               \"Percent of 18+ Pop with at least One Dose by State of Residence\"]\n",
    "vaccines = pd.read_csv(\"./data/covid19_vaccinations_in_the_united_states.csv\", skiprows=2)[cols_to_keep]\n",
    "vaccines.head()"
   ]
  },
  {
   "cell_type": "code",
   "execution_count": 146,
   "id": "structural-principle",
   "metadata": {},
   "outputs": [],
   "source": [
    "# The CDC codes New York as \"New York State\". Change that to \"New York\" so the merge with the election data works.\n",
    "\n",
    "vaccines.loc[vaccines[\"State/Territory/Federal Entity\"] == \"New York State\", \"State/Territory/Federal Entity\"] = \"New York\""
   ]
  },
  {
   "cell_type": "code",
   "execution_count": 147,
   "id": "homeless-august",
   "metadata": {},
   "outputs": [
    {
     "data": {
      "text/html": [
       "<div>\n",
       "<style scoped>\n",
       "    .dataframe tbody tr th:only-of-type {\n",
       "        vertical-align: middle;\n",
       "    }\n",
       "\n",
       "    .dataframe tbody tr th {\n",
       "        vertical-align: top;\n",
       "    }\n",
       "\n",
       "    .dataframe thead th {\n",
       "        text-align: right;\n",
       "    }\n",
       "</style>\n",
       "<table border=\"1\" class=\"dataframe\">\n",
       "  <thead>\n",
       "    <tr style=\"text-align: right;\">\n",
       "      <th></th>\n",
       "      <th>State/Territory/Federal Entity</th>\n",
       "      <th>Percent of 18+ Pop with at least One Dose by State of Residence</th>\n",
       "      <th>Population</th>\n",
       "    </tr>\n",
       "  </thead>\n",
       "  <tbody>\n",
       "    <tr>\n",
       "      <th>0</th>\n",
       "      <td>Alaska</td>\n",
       "      <td>56.8</td>\n",
       "      <td>731542.0</td>\n",
       "    </tr>\n",
       "    <tr>\n",
       "      <th>1</th>\n",
       "      <td>Alabama</td>\n",
       "      <td>44.8</td>\n",
       "      <td>4903197.0</td>\n",
       "    </tr>\n",
       "    <tr>\n",
       "      <th>2</th>\n",
       "      <td>Arkansas</td>\n",
       "      <td>48.6</td>\n",
       "      <td>3017812.0</td>\n",
       "    </tr>\n",
       "    <tr>\n",
       "      <th>3</th>\n",
       "      <td>American Samoa</td>\n",
       "      <td>50.9</td>\n",
       "      <td>55688.0</td>\n",
       "    </tr>\n",
       "    <tr>\n",
       "      <th>4</th>\n",
       "      <td>Arizona</td>\n",
       "      <td>55.8</td>\n",
       "      <td>7278689.0</td>\n",
       "    </tr>\n",
       "  </tbody>\n",
       "</table>\n",
       "</div>"
      ],
      "text/plain": [
       "  State/Territory/Federal Entity  \\\n",
       "0                         Alaska   \n",
       "1                        Alabama   \n",
       "2                       Arkansas   \n",
       "3                 American Samoa   \n",
       "4                        Arizona   \n",
       "\n",
       "   Percent of 18+ Pop with at least One Dose by State of Residence  Population  \n",
       "0                                               56.8                  731542.0  \n",
       "1                                               44.8                 4903197.0  \n",
       "2                                               48.6                 3017812.0  \n",
       "3                                               50.9                   55688.0  \n",
       "4                                               55.8                 7278689.0  "
      ]
     },
     "execution_count": 147,
     "metadata": {},
     "output_type": "execute_result"
    }
   ],
   "source": [
    "# Calculate each state's population based on data available in the vaccination dataset. Round down to nearest integer.\n",
    "# Then drop the columns used to do the calculations.\n",
    "\n",
    "vaccines[\"Population\"] = 100000 * vaccines[\"Total Doses Delivered\"] // vaccines[\"Doses Delivered per 100K\"]\n",
    "vaccines.drop(columns=[\"Total Doses Delivered\", \"Doses Delivered per 100K\"], inplace=True)\n",
    "vaccines.head()"
   ]
  },
  {
   "cell_type": "code",
   "execution_count": 148,
   "id": "entire-supervisor",
   "metadata": {},
   "outputs": [
    {
     "data": {
      "text/html": [
       "<div>\n",
       "<style scoped>\n",
       "    .dataframe tbody tr th:only-of-type {\n",
       "        vertical-align: middle;\n",
       "    }\n",
       "\n",
       "    .dataframe tbody tr th {\n",
       "        vertical-align: top;\n",
       "    }\n",
       "\n",
       "    .dataframe thead th {\n",
       "        text-align: right;\n",
       "    }\n",
       "</style>\n",
       "<table border=\"1\" class=\"dataframe\">\n",
       "  <thead>\n",
       "    <tr style=\"text-align: right;\">\n",
       "      <th></th>\n",
       "      <th>State</th>\n",
       "      <th>Percent Republican Vote</th>\n",
       "      <th>Percent of 18+ with at least One Dose</th>\n",
       "      <th>Population</th>\n",
       "    </tr>\n",
       "  </thead>\n",
       "  <tbody>\n",
       "    <tr>\n",
       "      <th>0</th>\n",
       "      <td>Alabama</td>\n",
       "      <td>62.0</td>\n",
       "      <td>44.8</td>\n",
       "      <td>4903197.0</td>\n",
       "    </tr>\n",
       "    <tr>\n",
       "      <th>1</th>\n",
       "      <td>Alaska</td>\n",
       "      <td>52.8</td>\n",
       "      <td>56.8</td>\n",
       "      <td>731542.0</td>\n",
       "    </tr>\n",
       "    <tr>\n",
       "      <th>2</th>\n",
       "      <td>Arizona</td>\n",
       "      <td>49.1</td>\n",
       "      <td>55.8</td>\n",
       "      <td>7278689.0</td>\n",
       "    </tr>\n",
       "    <tr>\n",
       "      <th>3</th>\n",
       "      <td>Arkansas</td>\n",
       "      <td>62.4</td>\n",
       "      <td>48.6</td>\n",
       "      <td>3017812.0</td>\n",
       "    </tr>\n",
       "    <tr>\n",
       "      <th>4</th>\n",
       "      <td>California</td>\n",
       "      <td>34.3</td>\n",
       "      <td>67.5</td>\n",
       "      <td>39512110.0</td>\n",
       "    </tr>\n",
       "    <tr>\n",
       "      <th>5</th>\n",
       "      <td>Colorado</td>\n",
       "      <td>41.9</td>\n",
       "      <td>63.6</td>\n",
       "      <td>5758748.0</td>\n",
       "    </tr>\n",
       "    <tr>\n",
       "      <th>6</th>\n",
       "      <td>Connecticut</td>\n",
       "      <td>39.2</td>\n",
       "      <td>72.9</td>\n",
       "      <td>3565280.0</td>\n",
       "    </tr>\n",
       "    <tr>\n",
       "      <th>7</th>\n",
       "      <td>Delaware</td>\n",
       "      <td>39.8</td>\n",
       "      <td>63.4</td>\n",
       "      <td>973764.0</td>\n",
       "    </tr>\n",
       "    <tr>\n",
       "      <th>8</th>\n",
       "      <td>District of Columbia</td>\n",
       "      <td>5.4</td>\n",
       "      <td>66.0</td>\n",
       "      <td>705749.0</td>\n",
       "    </tr>\n",
       "    <tr>\n",
       "      <th>9</th>\n",
       "      <td>Florida</td>\n",
       "      <td>51.2</td>\n",
       "      <td>57.1</td>\n",
       "      <td>21477732.0</td>\n",
       "    </tr>\n",
       "    <tr>\n",
       "      <th>10</th>\n",
       "      <td>Georgia</td>\n",
       "      <td>49.3</td>\n",
       "      <td>48.9</td>\n",
       "      <td>10617457.0</td>\n",
       "    </tr>\n",
       "    <tr>\n",
       "      <th>11</th>\n",
       "      <td>Hawaii</td>\n",
       "      <td>34.3</td>\n",
       "      <td>77.5</td>\n",
       "      <td>1415867.0</td>\n",
       "    </tr>\n",
       "    <tr>\n",
       "      <th>12</th>\n",
       "      <td>Idaho</td>\n",
       "      <td>63.9</td>\n",
       "      <td>48.5</td>\n",
       "      <td>1787056.0</td>\n",
       "    </tr>\n",
       "    <tr>\n",
       "      <th>13</th>\n",
       "      <td>Illinois</td>\n",
       "      <td>40.6</td>\n",
       "      <td>64.4</td>\n",
       "      <td>12671796.0</td>\n",
       "    </tr>\n",
       "    <tr>\n",
       "      <th>14</th>\n",
       "      <td>Indiana</td>\n",
       "      <td>57.0</td>\n",
       "      <td>50.9</td>\n",
       "      <td>6732234.0</td>\n",
       "    </tr>\n",
       "    <tr>\n",
       "      <th>15</th>\n",
       "      <td>Iowa</td>\n",
       "      <td>53.1</td>\n",
       "      <td>60.0</td>\n",
       "      <td>3155060.0</td>\n",
       "    </tr>\n",
       "    <tr>\n",
       "      <th>16</th>\n",
       "      <td>Kansas</td>\n",
       "      <td>56.2</td>\n",
       "      <td>58.3</td>\n",
       "      <td>2913328.0</td>\n",
       "    </tr>\n",
       "    <tr>\n",
       "      <th>17</th>\n",
       "      <td>Kentucky</td>\n",
       "      <td>62.1</td>\n",
       "      <td>56.0</td>\n",
       "      <td>4467689.0</td>\n",
       "    </tr>\n",
       "    <tr>\n",
       "      <th>18</th>\n",
       "      <td>Louisiana</td>\n",
       "      <td>58.5</td>\n",
       "      <td>44.5</td>\n",
       "      <td>4648818.0</td>\n",
       "    </tr>\n",
       "    <tr>\n",
       "      <th>19</th>\n",
       "      <td>Maine</td>\n",
       "      <td>44.0</td>\n",
       "      <td>72.0</td>\n",
       "      <td>1344212.0</td>\n",
       "    </tr>\n",
       "    <tr>\n",
       "      <th>20</th>\n",
       "      <td>Maryland</td>\n",
       "      <td>32.2</td>\n",
       "      <td>67.6</td>\n",
       "      <td>6045683.0</td>\n",
       "    </tr>\n",
       "    <tr>\n",
       "      <th>21</th>\n",
       "      <td>Massachusetts</td>\n",
       "      <td>32.1</td>\n",
       "      <td>76.2</td>\n",
       "      <td>6892517.0</td>\n",
       "    </tr>\n",
       "    <tr>\n",
       "      <th>22</th>\n",
       "      <td>Michigan</td>\n",
       "      <td>47.8</td>\n",
       "      <td>57.8</td>\n",
       "      <td>9986883.0</td>\n",
       "    </tr>\n",
       "    <tr>\n",
       "      <th>23</th>\n",
       "      <td>Minnesota</td>\n",
       "      <td>45.3</td>\n",
       "      <td>65.4</td>\n",
       "      <td>5639639.0</td>\n",
       "    </tr>\n",
       "    <tr>\n",
       "      <th>24</th>\n",
       "      <td>Mississippi</td>\n",
       "      <td>57.6</td>\n",
       "      <td>42.8</td>\n",
       "      <td>2976142.0</td>\n",
       "    </tr>\n",
       "    <tr>\n",
       "      <th>25</th>\n",
       "      <td>Missouri</td>\n",
       "      <td>56.8</td>\n",
       "      <td>51.2</td>\n",
       "      <td>6137405.0</td>\n",
       "    </tr>\n",
       "    <tr>\n",
       "      <th>26</th>\n",
       "      <td>Montana</td>\n",
       "      <td>56.9</td>\n",
       "      <td>54.4</td>\n",
       "      <td>1068777.0</td>\n",
       "    </tr>\n",
       "    <tr>\n",
       "      <th>27</th>\n",
       "      <td>Nebraska</td>\n",
       "      <td>58.5</td>\n",
       "      <td>60.1</td>\n",
       "      <td>1934400.0</td>\n",
       "    </tr>\n",
       "    <tr>\n",
       "      <th>28</th>\n",
       "      <td>Nevada</td>\n",
       "      <td>47.7</td>\n",
       "      <td>54.8</td>\n",
       "      <td>3080162.0</td>\n",
       "    </tr>\n",
       "    <tr>\n",
       "      <th>29</th>\n",
       "      <td>New Hampshire</td>\n",
       "      <td>45.4</td>\n",
       "      <td>75.0</td>\n",
       "      <td>1359712.0</td>\n",
       "    </tr>\n",
       "    <tr>\n",
       "      <th>30</th>\n",
       "      <td>New Jersey</td>\n",
       "      <td>41.4</td>\n",
       "      <td>71.2</td>\n",
       "      <td>8882153.0</td>\n",
       "    </tr>\n",
       "    <tr>\n",
       "      <th>31</th>\n",
       "      <td>New Mexico</td>\n",
       "      <td>43.5</td>\n",
       "      <td>69.2</td>\n",
       "      <td>2096830.0</td>\n",
       "    </tr>\n",
       "    <tr>\n",
       "      <th>32</th>\n",
       "      <td>New York</td>\n",
       "      <td>37.7</td>\n",
       "      <td>64.9</td>\n",
       "      <td>19453619.0</td>\n",
       "    </tr>\n",
       "    <tr>\n",
       "      <th>33</th>\n",
       "      <td>North Carolina</td>\n",
       "      <td>49.9</td>\n",
       "      <td>52.4</td>\n",
       "      <td>10488086.0</td>\n",
       "    </tr>\n",
       "    <tr>\n",
       "      <th>34</th>\n",
       "      <td>North Dakota</td>\n",
       "      <td>65.1</td>\n",
       "      <td>52.8</td>\n",
       "      <td>762058.0</td>\n",
       "    </tr>\n",
       "    <tr>\n",
       "      <th>35</th>\n",
       "      <td>Ohio</td>\n",
       "      <td>53.3</td>\n",
       "      <td>54.8</td>\n",
       "      <td>11689095.0</td>\n",
       "    </tr>\n",
       "    <tr>\n",
       "      <th>36</th>\n",
       "      <td>Oklahoma</td>\n",
       "      <td>65.4</td>\n",
       "      <td>52.4</td>\n",
       "      <td>3956965.0</td>\n",
       "    </tr>\n",
       "    <tr>\n",
       "      <th>37</th>\n",
       "      <td>Oregon</td>\n",
       "      <td>40.4</td>\n",
       "      <td>62.9</td>\n",
       "      <td>4217747.0</td>\n",
       "    </tr>\n",
       "    <tr>\n",
       "      <th>38</th>\n",
       "      <td>Pennsylvania</td>\n",
       "      <td>48.8</td>\n",
       "      <td>68.5</td>\n",
       "      <td>12801974.0</td>\n",
       "    </tr>\n",
       "    <tr>\n",
       "      <th>39</th>\n",
       "      <td>Rhode Island</td>\n",
       "      <td>38.6</td>\n",
       "      <td>69.5</td>\n",
       "      <td>1059361.0</td>\n",
       "    </tr>\n",
       "    <tr>\n",
       "      <th>40</th>\n",
       "      <td>South Carolina</td>\n",
       "      <td>55.1</td>\n",
       "      <td>49.3</td>\n",
       "      <td>5148724.0</td>\n",
       "    </tr>\n",
       "    <tr>\n",
       "      <th>41</th>\n",
       "      <td>South Dakota</td>\n",
       "      <td>61.8</td>\n",
       "      <td>60.8</td>\n",
       "      <td>884660.0</td>\n",
       "    </tr>\n",
       "    <tr>\n",
       "      <th>42</th>\n",
       "      <td>Tennessee</td>\n",
       "      <td>60.7</td>\n",
       "      <td>47.6</td>\n",
       "      <td>6829184.0</td>\n",
       "    </tr>\n",
       "    <tr>\n",
       "      <th>43</th>\n",
       "      <td>Texas</td>\n",
       "      <td>52.1</td>\n",
       "      <td>55.0</td>\n",
       "      <td>28995927.0</td>\n",
       "    </tr>\n",
       "    <tr>\n",
       "      <th>44</th>\n",
       "      <td>Utah</td>\n",
       "      <td>58.1</td>\n",
       "      <td>59.0</td>\n",
       "      <td>3205965.0</td>\n",
       "    </tr>\n",
       "    <tr>\n",
       "      <th>45</th>\n",
       "      <td>Vermont</td>\n",
       "      <td>30.7</td>\n",
       "      <td>78.9</td>\n",
       "      <td>623990.0</td>\n",
       "    </tr>\n",
       "    <tr>\n",
       "      <th>46</th>\n",
       "      <td>Virginia</td>\n",
       "      <td>44.0</td>\n",
       "      <td>64.8</td>\n",
       "      <td>8535487.0</td>\n",
       "    </tr>\n",
       "    <tr>\n",
       "      <th>47</th>\n",
       "      <td>Washington</td>\n",
       "      <td>38.8</td>\n",
       "      <td>65.9</td>\n",
       "      <td>7614891.0</td>\n",
       "    </tr>\n",
       "    <tr>\n",
       "      <th>48</th>\n",
       "      <td>West Virginia</td>\n",
       "      <td>68.6</td>\n",
       "      <td>47.3</td>\n",
       "      <td>1792144.0</td>\n",
       "    </tr>\n",
       "    <tr>\n",
       "      <th>49</th>\n",
       "      <td>Wisconsin</td>\n",
       "      <td>48.8</td>\n",
       "      <td>60.9</td>\n",
       "      <td>5822405.0</td>\n",
       "    </tr>\n",
       "    <tr>\n",
       "      <th>50</th>\n",
       "      <td>Wyoming</td>\n",
       "      <td>69.9</td>\n",
       "      <td>45.9</td>\n",
       "      <td>578756.0</td>\n",
       "    </tr>\n",
       "  </tbody>\n",
       "</table>\n",
       "</div>"
      ],
      "text/plain": [
       "                   State  Percent Republican Vote  \\\n",
       "0                Alabama                     62.0   \n",
       "1                 Alaska                     52.8   \n",
       "2                Arizona                     49.1   \n",
       "3               Arkansas                     62.4   \n",
       "4             California                     34.3   \n",
       "5               Colorado                     41.9   \n",
       "6            Connecticut                     39.2   \n",
       "7               Delaware                     39.8   \n",
       "8   District of Columbia                      5.4   \n",
       "9                Florida                     51.2   \n",
       "10               Georgia                     49.3   \n",
       "11                Hawaii                     34.3   \n",
       "12                 Idaho                     63.9   \n",
       "13              Illinois                     40.6   \n",
       "14               Indiana                     57.0   \n",
       "15                  Iowa                     53.1   \n",
       "16                Kansas                     56.2   \n",
       "17              Kentucky                     62.1   \n",
       "18             Louisiana                     58.5   \n",
       "19                 Maine                     44.0   \n",
       "20              Maryland                     32.2   \n",
       "21         Massachusetts                     32.1   \n",
       "22              Michigan                     47.8   \n",
       "23             Minnesota                     45.3   \n",
       "24           Mississippi                     57.6   \n",
       "25              Missouri                     56.8   \n",
       "26               Montana                     56.9   \n",
       "27              Nebraska                     58.5   \n",
       "28                Nevada                     47.7   \n",
       "29         New Hampshire                     45.4   \n",
       "30            New Jersey                     41.4   \n",
       "31            New Mexico                     43.5   \n",
       "32              New York                     37.7   \n",
       "33        North Carolina                     49.9   \n",
       "34          North Dakota                     65.1   \n",
       "35                  Ohio                     53.3   \n",
       "36              Oklahoma                     65.4   \n",
       "37                Oregon                     40.4   \n",
       "38          Pennsylvania                     48.8   \n",
       "39          Rhode Island                     38.6   \n",
       "40        South Carolina                     55.1   \n",
       "41          South Dakota                     61.8   \n",
       "42             Tennessee                     60.7   \n",
       "43                 Texas                     52.1   \n",
       "44                  Utah                     58.1   \n",
       "45               Vermont                     30.7   \n",
       "46              Virginia                     44.0   \n",
       "47            Washington                     38.8   \n",
       "48         West Virginia                     68.6   \n",
       "49             Wisconsin                     48.8   \n",
       "50               Wyoming                     69.9   \n",
       "\n",
       "    Percent of 18+ with at least One Dose  Population  \n",
       "0                                    44.8   4903197.0  \n",
       "1                                    56.8    731542.0  \n",
       "2                                    55.8   7278689.0  \n",
       "3                                    48.6   3017812.0  \n",
       "4                                    67.5  39512110.0  \n",
       "5                                    63.6   5758748.0  \n",
       "6                                    72.9   3565280.0  \n",
       "7                                    63.4    973764.0  \n",
       "8                                    66.0    705749.0  \n",
       "9                                    57.1  21477732.0  \n",
       "10                                   48.9  10617457.0  \n",
       "11                                   77.5   1415867.0  \n",
       "12                                   48.5   1787056.0  \n",
       "13                                   64.4  12671796.0  \n",
       "14                                   50.9   6732234.0  \n",
       "15                                   60.0   3155060.0  \n",
       "16                                   58.3   2913328.0  \n",
       "17                                   56.0   4467689.0  \n",
       "18                                   44.5   4648818.0  \n",
       "19                                   72.0   1344212.0  \n",
       "20                                   67.6   6045683.0  \n",
       "21                                   76.2   6892517.0  \n",
       "22                                   57.8   9986883.0  \n",
       "23                                   65.4   5639639.0  \n",
       "24                                   42.8   2976142.0  \n",
       "25                                   51.2   6137405.0  \n",
       "26                                   54.4   1068777.0  \n",
       "27                                   60.1   1934400.0  \n",
       "28                                   54.8   3080162.0  \n",
       "29                                   75.0   1359712.0  \n",
       "30                                   71.2   8882153.0  \n",
       "31                                   69.2   2096830.0  \n",
       "32                                   64.9  19453619.0  \n",
       "33                                   52.4  10488086.0  \n",
       "34                                   52.8    762058.0  \n",
       "35                                   54.8  11689095.0  \n",
       "36                                   52.4   3956965.0  \n",
       "37                                   62.9   4217747.0  \n",
       "38                                   68.5  12801974.0  \n",
       "39                                   69.5   1059361.0  \n",
       "40                                   49.3   5148724.0  \n",
       "41                                   60.8    884660.0  \n",
       "42                                   47.6   6829184.0  \n",
       "43                                   55.0  28995927.0  \n",
       "44                                   59.0   3205965.0  \n",
       "45                                   78.9    623990.0  \n",
       "46                                   64.8   8535487.0  \n",
       "47                                   65.9   7614891.0  \n",
       "48                                   47.3   1792144.0  \n",
       "49                                   60.9   5822405.0  \n",
       "50                                   45.9    578756.0  "
      ]
     },
     "execution_count": 148,
     "metadata": {},
     "output_type": "execute_result"
    }
   ],
   "source": [
    "# Merge the two datasets on state. The vaccination data includes U.S. territories not inlcuded in the election data. \n",
    "# The election data includes individual congressional districts for the two states which allot Electoral College votes \n",
    "# by district, Maine and Nebraska. An inner join is appropriate here and results in a dataframe with the fifty states \n",
    "# and the District of Columbia.\n",
    "\n",
    "votevax = pd.merge(votes, vaccines, how=\"inner\", left_on=\"state\", right_on=\"State/Territory/Federal Entity\")\n",
    "votevax.drop(columns=[\"State/Territory/Federal Entity\"], inplace=True)\n",
    "\n",
    "# Give the remaining columns more user-friendly names, sort by state, and we have a tidy table.\n",
    "votevax.rename(columns={\"state\":\"State\", \"rep_percent\":\"Percent Republican Vote\",\n",
    "                       \"Percent of 18+ Pop with at least One Dose by State of Residence\":\n",
    "                        \"Percent of 18+ with at least One Dose\"}, inplace=True)\n",
    "votevax.sort_values(\"State\", inplace=True)\n",
    "votevax.reset_index(inplace=True, drop=True)\n",
    "votevax.head(52)"
   ]
  },
  {
   "cell_type": "code",
   "execution_count": 149,
   "id": "forty-birth",
   "metadata": {},
   "outputs": [
    {
     "data": {
      "application/vnd.plotly.v1+json": {
       "config": {
        "plotlyServerURL": "https://plot.ly"
       },
       "data": [
        {
         "hovertemplate": "<b>%{hovertext}</b><br><br>Percent of 18+ with at least One Dose=%{x}<br>Percent Republican Vote=%{marker.color}<br>Population=%{marker.size}<extra></extra>",
         "hovertext": [
          "Alabama",
          "Alaska",
          "Arizona",
          "Arkansas",
          "California",
          "Colorado",
          "Connecticut",
          "Delaware",
          "District of Columbia",
          "Florida",
          "Georgia",
          "Hawaii",
          "Idaho",
          "Illinois",
          "Indiana",
          "Iowa",
          "Kansas",
          "Kentucky",
          "Louisiana",
          "Maine",
          "Maryland",
          "Massachusetts",
          "Michigan",
          "Minnesota",
          "Mississippi",
          "Missouri",
          "Montana",
          "Nebraska",
          "Nevada",
          "New Hampshire",
          "New Jersey",
          "New Mexico",
          "New York",
          "North Carolina",
          "North Dakota",
          "Ohio",
          "Oklahoma",
          "Oregon",
          "Pennsylvania",
          "Rhode Island",
          "South Carolina",
          "South Dakota",
          "Tennessee",
          "Texas",
          "Utah",
          "Vermont",
          "Virginia",
          "Washington",
          "West Virginia",
          "Wisconsin",
          "Wyoming"
         ],
         "legendgroup": "",
         "marker": {
          "color": [
           62,
           52.8,
           49.1,
           62.4,
           34.3,
           41.9,
           39.2,
           39.8,
           5.4,
           51.2,
           49.3,
           34.3,
           63.9,
           40.6,
           57,
           53.1,
           56.2,
           62.1,
           58.5,
           44,
           32.2,
           32.1,
           47.8,
           45.3,
           57.6,
           56.8,
           56.9,
           58.5,
           47.7,
           45.4,
           41.4,
           43.5,
           37.7,
           49.9,
           65.1,
           53.3,
           65.4,
           40.4,
           48.8,
           38.6,
           55.1,
           61.8,
           60.7,
           52.1,
           58.1,
           30.7,
           44,
           38.8,
           68.6,
           48.8,
           69.9
          ],
          "coloraxis": "coloraxis",
          "size": [
           4903197,
           731542,
           7278689,
           3017812,
           39512110,
           5758748,
           3565280,
           973764,
           705749,
           21477732,
           10617457,
           1415867,
           1787056,
           12671796,
           6732234,
           3155060,
           2913328,
           4467689,
           4648818,
           1344212,
           6045683,
           6892517,
           9986883,
           5639639,
           2976142,
           6137405,
           1068777,
           1934400,
           3080162,
           1359712,
           8882153,
           2096830,
           19453619,
           10488086,
           762058,
           11689095,
           3956965,
           4217747,
           12801974,
           1059361,
           5148724,
           884660,
           6829184,
           28995927,
           3205965,
           623990,
           8535487,
           7614891,
           1792144,
           5822405,
           578756
          ],
          "sizemode": "area",
          "sizeref": 15804.844,
          "symbol": "circle"
         },
         "mode": "markers",
         "name": "",
         "orientation": "v",
         "showlegend": false,
         "type": "scatter",
         "x": [
          44.8,
          56.8,
          55.8,
          48.6,
          67.5,
          63.6,
          72.9,
          63.4,
          66,
          57.1,
          48.9,
          77.5,
          48.5,
          64.4,
          50.9,
          60,
          58.3,
          56,
          44.5,
          72,
          67.6,
          76.2,
          57.8,
          65.4,
          42.8,
          51.2,
          54.4,
          60.1,
          54.8,
          75,
          71.2,
          69.2,
          64.9,
          52.4,
          52.8,
          54.8,
          52.4,
          62.9,
          68.5,
          69.5,
          49.3,
          60.8,
          47.6,
          55,
          59,
          78.9,
          64.8,
          65.9,
          47.3,
          60.9,
          45.9
         ],
         "xaxis": "x",
         "y": [
          62,
          52.8,
          49.1,
          62.4,
          34.3,
          41.9,
          39.2,
          39.8,
          5.4,
          51.2,
          49.3,
          34.3,
          63.9,
          40.6,
          57,
          53.1,
          56.2,
          62.1,
          58.5,
          44,
          32.2,
          32.1,
          47.8,
          45.3,
          57.6,
          56.8,
          56.9,
          58.5,
          47.7,
          45.4,
          41.4,
          43.5,
          37.7,
          49.9,
          65.1,
          53.3,
          65.4,
          40.4,
          48.8,
          38.6,
          55.1,
          61.8,
          60.7,
          52.1,
          58.1,
          30.7,
          44,
          38.8,
          68.6,
          48.8,
          69.9
         ],
         "yaxis": "y"
        },
        {
         "hovertemplate": "<b>OLS trendline</b><br>Percent Republican Vote = -0.960527 * Percent of 18+ with at least One Dose + 106.412<br>R<sup>2</sup>=0.567116<br><br>Percent of 18+ with at least One Dose=%{x}<br>Percent Republican Vote=%{y} <b>(trend)</b><extra></extra>",
         "legendgroup": "",
         "line": {
          "color": "SlateGray"
         },
         "marker": {
          "symbol": "circle"
         },
         "mode": "lines",
         "name": "",
         "showlegend": false,
         "type": "scatter",
         "x": [
          42.8,
          44.5,
          44.8,
          45.9,
          47.3,
          47.6,
          48.5,
          48.6,
          48.9,
          49.3,
          50.9,
          51.2,
          52.4,
          52.4,
          52.8,
          54.4,
          54.8,
          54.8,
          55,
          55.8,
          56,
          56.8,
          57.1,
          57.8,
          58.3,
          59,
          60,
          60.1,
          60.8,
          60.9,
          62.9,
          63.4,
          63.6,
          64.4,
          64.8,
          64.9,
          65.4,
          65.9,
          66,
          67.5,
          67.6,
          68.5,
          69.2,
          69.5,
          71.2,
          72,
          72.9,
          75,
          76.2,
          77.5,
          78.9
         ],
         "xaxis": "x",
         "y": [
          65.30176369504319,
          63.668868013122534,
          63.38070995160712,
          62.32413039271729,
          60.97939277231203,
          60.69123471079662,
          59.82676052625039,
          59.73070783907858,
          59.44254977756318,
          59.05833902887596,
          57.52149603412711,
          57.23333797261169,
          56.08070572655006,
          56.08070572655006,
          55.69649497786284,
          54.15965198311398,
          53.77544123442677,
          53.77544123442677,
          53.58333586008316,
          52.814914362708734,
          52.62280898836513,
          51.8543874909907,
          51.566229429475285,
          50.893860619272665,
          50.41359718341365,
          49.74122837321102,
          48.780701501492985,
          48.684648814321186,
          48.01228000411856,
          47.91622731694676,
          45.995173573510684,
          45.51491013765167,
          45.322804763308056,
          44.55438326593363,
          44.17017251724642,
          44.07411983007461,
          43.59385639421559,
          43.11359295835658,
          43.01754027118478,
          41.576749963607725,
          41.48069727643593,
          40.616223091889694,
          39.94385428168707,
          39.65569622017165,
          38.02280053825099,
          37.25437904087657,
          36.38990485633033,
          34.372798425722465,
          33.22016617966082,
          31.971481246427373,
          30.62674362602212
         ],
         "yaxis": "y"
        }
       ],
       "layout": {
        "coloraxis": {
         "cmax": 69.9,
         "cmin": 30.4,
         "colorbar": {
          "title": {
           "text": "Percent Republican Vote"
          }
         },
         "colorscale": [
          [
           0,
           "rgb(5,48,97)"
          ],
          [
           0.1,
           "rgb(33,102,172)"
          ],
          [
           0.2,
           "rgb(67,147,195)"
          ],
          [
           0.3,
           "rgb(146,197,222)"
          ],
          [
           0.4,
           "rgb(209,229,240)"
          ],
          [
           0.5,
           "rgb(247,247,247)"
          ],
          [
           0.6,
           "rgb(253,219,199)"
          ],
          [
           0.7,
           "rgb(244,165,130)"
          ],
          [
           0.8,
           "rgb(214,96,77)"
          ],
          [
           0.9,
           "rgb(178,24,43)"
          ],
          [
           1,
           "rgb(103,0,31)"
          ]
         ]
        },
        "legend": {
         "itemsizing": "constant",
         "tracegroupgap": 0
        },
        "template": {
         "data": {
          "bar": [
           {
            "error_x": {
             "color": "#2a3f5f"
            },
            "error_y": {
             "color": "#2a3f5f"
            },
            "marker": {
             "line": {
              "color": "#E5ECF6",
              "width": 0.5
             }
            },
            "type": "bar"
           }
          ],
          "barpolar": [
           {
            "marker": {
             "line": {
              "color": "#E5ECF6",
              "width": 0.5
             }
            },
            "type": "barpolar"
           }
          ],
          "carpet": [
           {
            "aaxis": {
             "endlinecolor": "#2a3f5f",
             "gridcolor": "white",
             "linecolor": "white",
             "minorgridcolor": "white",
             "startlinecolor": "#2a3f5f"
            },
            "baxis": {
             "endlinecolor": "#2a3f5f",
             "gridcolor": "white",
             "linecolor": "white",
             "minorgridcolor": "white",
             "startlinecolor": "#2a3f5f"
            },
            "type": "carpet"
           }
          ],
          "choropleth": [
           {
            "colorbar": {
             "outlinewidth": 0,
             "ticks": ""
            },
            "type": "choropleth"
           }
          ],
          "contour": [
           {
            "colorbar": {
             "outlinewidth": 0,
             "ticks": ""
            },
            "colorscale": [
             [
              0,
              "#0d0887"
             ],
             [
              0.1111111111111111,
              "#46039f"
             ],
             [
              0.2222222222222222,
              "#7201a8"
             ],
             [
              0.3333333333333333,
              "#9c179e"
             ],
             [
              0.4444444444444444,
              "#bd3786"
             ],
             [
              0.5555555555555556,
              "#d8576b"
             ],
             [
              0.6666666666666666,
              "#ed7953"
             ],
             [
              0.7777777777777778,
              "#fb9f3a"
             ],
             [
              0.8888888888888888,
              "#fdca26"
             ],
             [
              1,
              "#f0f921"
             ]
            ],
            "type": "contour"
           }
          ],
          "contourcarpet": [
           {
            "colorbar": {
             "outlinewidth": 0,
             "ticks": ""
            },
            "type": "contourcarpet"
           }
          ],
          "heatmap": [
           {
            "colorbar": {
             "outlinewidth": 0,
             "ticks": ""
            },
            "colorscale": [
             [
              0,
              "#0d0887"
             ],
             [
              0.1111111111111111,
              "#46039f"
             ],
             [
              0.2222222222222222,
              "#7201a8"
             ],
             [
              0.3333333333333333,
              "#9c179e"
             ],
             [
              0.4444444444444444,
              "#bd3786"
             ],
             [
              0.5555555555555556,
              "#d8576b"
             ],
             [
              0.6666666666666666,
              "#ed7953"
             ],
             [
              0.7777777777777778,
              "#fb9f3a"
             ],
             [
              0.8888888888888888,
              "#fdca26"
             ],
             [
              1,
              "#f0f921"
             ]
            ],
            "type": "heatmap"
           }
          ],
          "heatmapgl": [
           {
            "colorbar": {
             "outlinewidth": 0,
             "ticks": ""
            },
            "colorscale": [
             [
              0,
              "#0d0887"
             ],
             [
              0.1111111111111111,
              "#46039f"
             ],
             [
              0.2222222222222222,
              "#7201a8"
             ],
             [
              0.3333333333333333,
              "#9c179e"
             ],
             [
              0.4444444444444444,
              "#bd3786"
             ],
             [
              0.5555555555555556,
              "#d8576b"
             ],
             [
              0.6666666666666666,
              "#ed7953"
             ],
             [
              0.7777777777777778,
              "#fb9f3a"
             ],
             [
              0.8888888888888888,
              "#fdca26"
             ],
             [
              1,
              "#f0f921"
             ]
            ],
            "type": "heatmapgl"
           }
          ],
          "histogram": [
           {
            "marker": {
             "colorbar": {
              "outlinewidth": 0,
              "ticks": ""
             }
            },
            "type": "histogram"
           }
          ],
          "histogram2d": [
           {
            "colorbar": {
             "outlinewidth": 0,
             "ticks": ""
            },
            "colorscale": [
             [
              0,
              "#0d0887"
             ],
             [
              0.1111111111111111,
              "#46039f"
             ],
             [
              0.2222222222222222,
              "#7201a8"
             ],
             [
              0.3333333333333333,
              "#9c179e"
             ],
             [
              0.4444444444444444,
              "#bd3786"
             ],
             [
              0.5555555555555556,
              "#d8576b"
             ],
             [
              0.6666666666666666,
              "#ed7953"
             ],
             [
              0.7777777777777778,
              "#fb9f3a"
             ],
             [
              0.8888888888888888,
              "#fdca26"
             ],
             [
              1,
              "#f0f921"
             ]
            ],
            "type": "histogram2d"
           }
          ],
          "histogram2dcontour": [
           {
            "colorbar": {
             "outlinewidth": 0,
             "ticks": ""
            },
            "colorscale": [
             [
              0,
              "#0d0887"
             ],
             [
              0.1111111111111111,
              "#46039f"
             ],
             [
              0.2222222222222222,
              "#7201a8"
             ],
             [
              0.3333333333333333,
              "#9c179e"
             ],
             [
              0.4444444444444444,
              "#bd3786"
             ],
             [
              0.5555555555555556,
              "#d8576b"
             ],
             [
              0.6666666666666666,
              "#ed7953"
             ],
             [
              0.7777777777777778,
              "#fb9f3a"
             ],
             [
              0.8888888888888888,
              "#fdca26"
             ],
             [
              1,
              "#f0f921"
             ]
            ],
            "type": "histogram2dcontour"
           }
          ],
          "mesh3d": [
           {
            "colorbar": {
             "outlinewidth": 0,
             "ticks": ""
            },
            "type": "mesh3d"
           }
          ],
          "parcoords": [
           {
            "line": {
             "colorbar": {
              "outlinewidth": 0,
              "ticks": ""
             }
            },
            "type": "parcoords"
           }
          ],
          "pie": [
           {
            "automargin": true,
            "type": "pie"
           }
          ],
          "scatter": [
           {
            "marker": {
             "colorbar": {
              "outlinewidth": 0,
              "ticks": ""
             }
            },
            "type": "scatter"
           }
          ],
          "scatter3d": [
           {
            "line": {
             "colorbar": {
              "outlinewidth": 0,
              "ticks": ""
             }
            },
            "marker": {
             "colorbar": {
              "outlinewidth": 0,
              "ticks": ""
             }
            },
            "type": "scatter3d"
           }
          ],
          "scattercarpet": [
           {
            "marker": {
             "colorbar": {
              "outlinewidth": 0,
              "ticks": ""
             }
            },
            "type": "scattercarpet"
           }
          ],
          "scattergeo": [
           {
            "marker": {
             "colorbar": {
              "outlinewidth": 0,
              "ticks": ""
             }
            },
            "type": "scattergeo"
           }
          ],
          "scattergl": [
           {
            "marker": {
             "colorbar": {
              "outlinewidth": 0,
              "ticks": ""
             }
            },
            "type": "scattergl"
           }
          ],
          "scattermapbox": [
           {
            "marker": {
             "colorbar": {
              "outlinewidth": 0,
              "ticks": ""
             }
            },
            "type": "scattermapbox"
           }
          ],
          "scatterpolar": [
           {
            "marker": {
             "colorbar": {
              "outlinewidth": 0,
              "ticks": ""
             }
            },
            "type": "scatterpolar"
           }
          ],
          "scatterpolargl": [
           {
            "marker": {
             "colorbar": {
              "outlinewidth": 0,
              "ticks": ""
             }
            },
            "type": "scatterpolargl"
           }
          ],
          "scatterternary": [
           {
            "marker": {
             "colorbar": {
              "outlinewidth": 0,
              "ticks": ""
             }
            },
            "type": "scatterternary"
           }
          ],
          "surface": [
           {
            "colorbar": {
             "outlinewidth": 0,
             "ticks": ""
            },
            "colorscale": [
             [
              0,
              "#0d0887"
             ],
             [
              0.1111111111111111,
              "#46039f"
             ],
             [
              0.2222222222222222,
              "#7201a8"
             ],
             [
              0.3333333333333333,
              "#9c179e"
             ],
             [
              0.4444444444444444,
              "#bd3786"
             ],
             [
              0.5555555555555556,
              "#d8576b"
             ],
             [
              0.6666666666666666,
              "#ed7953"
             ],
             [
              0.7777777777777778,
              "#fb9f3a"
             ],
             [
              0.8888888888888888,
              "#fdca26"
             ],
             [
              1,
              "#f0f921"
             ]
            ],
            "type": "surface"
           }
          ],
          "table": [
           {
            "cells": {
             "fill": {
              "color": "#EBF0F8"
             },
             "line": {
              "color": "white"
             }
            },
            "header": {
             "fill": {
              "color": "#C8D4E3"
             },
             "line": {
              "color": "white"
             }
            },
            "type": "table"
           }
          ]
         },
         "layout": {
          "annotationdefaults": {
           "arrowcolor": "#2a3f5f",
           "arrowhead": 0,
           "arrowwidth": 1
          },
          "autotypenumbers": "strict",
          "coloraxis": {
           "colorbar": {
            "outlinewidth": 0,
            "ticks": ""
           }
          },
          "colorscale": {
           "diverging": [
            [
             0,
             "#8e0152"
            ],
            [
             0.1,
             "#c51b7d"
            ],
            [
             0.2,
             "#de77ae"
            ],
            [
             0.3,
             "#f1b6da"
            ],
            [
             0.4,
             "#fde0ef"
            ],
            [
             0.5,
             "#f7f7f7"
            ],
            [
             0.6,
             "#e6f5d0"
            ],
            [
             0.7,
             "#b8e186"
            ],
            [
             0.8,
             "#7fbc41"
            ],
            [
             0.9,
             "#4d9221"
            ],
            [
             1,
             "#276419"
            ]
           ],
           "sequential": [
            [
             0,
             "#0d0887"
            ],
            [
             0.1111111111111111,
             "#46039f"
            ],
            [
             0.2222222222222222,
             "#7201a8"
            ],
            [
             0.3333333333333333,
             "#9c179e"
            ],
            [
             0.4444444444444444,
             "#bd3786"
            ],
            [
             0.5555555555555556,
             "#d8576b"
            ],
            [
             0.6666666666666666,
             "#ed7953"
            ],
            [
             0.7777777777777778,
             "#fb9f3a"
            ],
            [
             0.8888888888888888,
             "#fdca26"
            ],
            [
             1,
             "#f0f921"
            ]
           ],
           "sequentialminus": [
            [
             0,
             "#0d0887"
            ],
            [
             0.1111111111111111,
             "#46039f"
            ],
            [
             0.2222222222222222,
             "#7201a8"
            ],
            [
             0.3333333333333333,
             "#9c179e"
            ],
            [
             0.4444444444444444,
             "#bd3786"
            ],
            [
             0.5555555555555556,
             "#d8576b"
            ],
            [
             0.6666666666666666,
             "#ed7953"
            ],
            [
             0.7777777777777778,
             "#fb9f3a"
            ],
            [
             0.8888888888888888,
             "#fdca26"
            ],
            [
             1,
             "#f0f921"
            ]
           ]
          },
          "colorway": [
           "#636efa",
           "#EF553B",
           "#00cc96",
           "#ab63fa",
           "#FFA15A",
           "#19d3f3",
           "#FF6692",
           "#B6E880",
           "#FF97FF",
           "#FECB52"
          ],
          "font": {
           "color": "#2a3f5f"
          },
          "geo": {
           "bgcolor": "white",
           "lakecolor": "white",
           "landcolor": "#E5ECF6",
           "showlakes": true,
           "showland": true,
           "subunitcolor": "white"
          },
          "hoverlabel": {
           "align": "left"
          },
          "hovermode": "closest",
          "mapbox": {
           "style": "light"
          },
          "paper_bgcolor": "white",
          "plot_bgcolor": "#E5ECF6",
          "polar": {
           "angularaxis": {
            "gridcolor": "white",
            "linecolor": "white",
            "ticks": ""
           },
           "bgcolor": "#E5ECF6",
           "radialaxis": {
            "gridcolor": "white",
            "linecolor": "white",
            "ticks": ""
           }
          },
          "scene": {
           "xaxis": {
            "backgroundcolor": "#E5ECF6",
            "gridcolor": "white",
            "gridwidth": 2,
            "linecolor": "white",
            "showbackground": true,
            "ticks": "",
            "zerolinecolor": "white"
           },
           "yaxis": {
            "backgroundcolor": "#E5ECF6",
            "gridcolor": "white",
            "gridwidth": 2,
            "linecolor": "white",
            "showbackground": true,
            "ticks": "",
            "zerolinecolor": "white"
           },
           "zaxis": {
            "backgroundcolor": "#E5ECF6",
            "gridcolor": "white",
            "gridwidth": 2,
            "linecolor": "white",
            "showbackground": true,
            "ticks": "",
            "zerolinecolor": "white"
           }
          },
          "shapedefaults": {
           "line": {
            "color": "#2a3f5f"
           }
          },
          "ternary": {
           "aaxis": {
            "gridcolor": "white",
            "linecolor": "white",
            "ticks": ""
           },
           "baxis": {
            "gridcolor": "white",
            "linecolor": "white",
            "ticks": ""
           },
           "bgcolor": "#E5ECF6",
           "caxis": {
            "gridcolor": "white",
            "linecolor": "white",
            "ticks": ""
           }
          },
          "title": {
           "x": 0.05
          },
          "xaxis": {
           "automargin": true,
           "gridcolor": "white",
           "linecolor": "white",
           "ticks": "",
           "title": {
            "standoff": 15
           },
           "zerolinecolor": "white",
           "zerolinewidth": 2
          },
          "yaxis": {
           "automargin": true,
           "gridcolor": "white",
           "linecolor": "white",
           "ticks": "",
           "title": {
            "standoff": 15
           },
           "zerolinecolor": "white",
           "zerolinewidth": 2
          }
         }
        },
        "title": {
         "text": "Republican Vote in 2020 Presidential Election vs. Covid-19 Vaccination"
        },
        "xaxis": {
         "anchor": "y",
         "domain": [
          0,
          1
         ],
         "title": {
          "text": "Percent of 18+ with at least One Dose"
         }
        },
        "yaxis": {
         "anchor": "x",
         "domain": [
          0,
          1
         ],
         "title": {
          "text": "Percent Republican Vote"
         }
        }
       }
      },
      "text/html": [
       "<div>                            <div id=\"81781964-16b0-4994-8739-7cff8ea7470c\" class=\"plotly-graph-div\" style=\"height:525px; width:100%;\"></div>            <script type=\"text/javascript\">                require([\"plotly\"], function(Plotly) {                    window.PLOTLYENV=window.PLOTLYENV || {};                                    if (document.getElementById(\"81781964-16b0-4994-8739-7cff8ea7470c\")) {                    Plotly.newPlot(                        \"81781964-16b0-4994-8739-7cff8ea7470c\",                        [{\"hovertemplate\": \"<b>%{hovertext}</b><br><br>Percent of 18+ with at least One Dose=%{x}<br>Percent Republican Vote=%{marker.color}<br>Population=%{marker.size}<extra></extra>\", \"hovertext\": [\"Alabama\", \"Alaska\", \"Arizona\", \"Arkansas\", \"California\", \"Colorado\", \"Connecticut\", \"Delaware\", \"District of Columbia\", \"Florida\", \"Georgia\", \"Hawaii\", \"Idaho\", \"Illinois\", \"Indiana\", \"Iowa\", \"Kansas\", \"Kentucky\", \"Louisiana\", \"Maine\", \"Maryland\", \"Massachusetts\", \"Michigan\", \"Minnesota\", \"Mississippi\", \"Missouri\", \"Montana\", \"Nebraska\", \"Nevada\", \"New Hampshire\", \"New Jersey\", \"New Mexico\", \"New York\", \"North Carolina\", \"North Dakota\", \"Ohio\", \"Oklahoma\", \"Oregon\", \"Pennsylvania\", \"Rhode Island\", \"South Carolina\", \"South Dakota\", \"Tennessee\", \"Texas\", \"Utah\", \"Vermont\", \"Virginia\", \"Washington\", \"West Virginia\", \"Wisconsin\", \"Wyoming\"], \"legendgroup\": \"\", \"marker\": {\"color\": [62.0, 52.8, 49.1, 62.4, 34.3, 41.9, 39.2, 39.8, 5.4, 51.2, 49.3, 34.3, 63.9, 40.6, 57.0, 53.1, 56.2, 62.1, 58.5, 44.0, 32.2, 32.1, 47.8, 45.3, 57.6, 56.8, 56.9, 58.5, 47.7, 45.4, 41.4, 43.5, 37.7, 49.9, 65.1, 53.3, 65.4, 40.4, 48.8, 38.6, 55.1, 61.8, 60.7, 52.1, 58.1, 30.7, 44.0, 38.8, 68.6, 48.8, 69.9], \"coloraxis\": \"coloraxis\", \"size\": [4903197.0, 731542.0, 7278689.0, 3017812.0, 39512110.0, 5758748.0, 3565280.0, 973764.0, 705749.0, 21477732.0, 10617457.0, 1415867.0, 1787056.0, 12671796.0, 6732234.0, 3155060.0, 2913328.0, 4467689.0, 4648818.0, 1344212.0, 6045683.0, 6892517.0, 9986883.0, 5639639.0, 2976142.0, 6137405.0, 1068777.0, 1934400.0, 3080162.0, 1359712.0, 8882153.0, 2096830.0, 19453619.0, 10488086.0, 762058.0, 11689095.0, 3956965.0, 4217747.0, 12801974.0, 1059361.0, 5148724.0, 884660.0, 6829184.0, 28995927.0, 3205965.0, 623990.0, 8535487.0, 7614891.0, 1792144.0, 5822405.0, 578756.0], \"sizemode\": \"area\", \"sizeref\": 15804.844, \"symbol\": \"circle\"}, \"mode\": \"markers\", \"name\": \"\", \"orientation\": \"v\", \"showlegend\": false, \"type\": \"scatter\", \"x\": [44.8, 56.8, 55.8, 48.6, 67.5, 63.6, 72.9, 63.4, 66.0, 57.1, 48.9, 77.5, 48.5, 64.4, 50.9, 60.0, 58.3, 56.0, 44.5, 72.0, 67.6, 76.2, 57.8, 65.4, 42.8, 51.2, 54.4, 60.1, 54.8, 75.0, 71.2, 69.2, 64.9, 52.4, 52.8, 54.8, 52.4, 62.9, 68.5, 69.5, 49.3, 60.8, 47.6, 55.0, 59.0, 78.9, 64.8, 65.9, 47.3, 60.9, 45.9], \"xaxis\": \"x\", \"y\": [62.0, 52.8, 49.1, 62.4, 34.3, 41.9, 39.2, 39.8, 5.4, 51.2, 49.3, 34.3, 63.9, 40.6, 57.0, 53.1, 56.2, 62.1, 58.5, 44.0, 32.2, 32.1, 47.8, 45.3, 57.6, 56.8, 56.9, 58.5, 47.7, 45.4, 41.4, 43.5, 37.7, 49.9, 65.1, 53.3, 65.4, 40.4, 48.8, 38.6, 55.1, 61.8, 60.7, 52.1, 58.1, 30.7, 44.0, 38.8, 68.6, 48.8, 69.9], \"yaxis\": \"y\"}, {\"hovertemplate\": \"<b>OLS trendline</b><br>Percent Republican Vote = -0.960527 * Percent of 18+ with at least One Dose + 106.412<br>R<sup>2</sup>=0.567116<br><br>Percent of 18+ with at least One Dose=%{x}<br>Percent Republican Vote=%{y} <b>(trend)</b><extra></extra>\", \"legendgroup\": \"\", \"line\": {\"color\": \"SlateGray\"}, \"marker\": {\"symbol\": \"circle\"}, \"mode\": \"lines\", \"name\": \"\", \"showlegend\": false, \"type\": \"scatter\", \"x\": [42.8, 44.5, 44.8, 45.9, 47.3, 47.6, 48.5, 48.6, 48.9, 49.3, 50.9, 51.2, 52.4, 52.4, 52.8, 54.4, 54.8, 54.8, 55.0, 55.8, 56.0, 56.8, 57.1, 57.8, 58.3, 59.0, 60.0, 60.1, 60.8, 60.9, 62.9, 63.4, 63.6, 64.4, 64.8, 64.9, 65.4, 65.9, 66.0, 67.5, 67.6, 68.5, 69.2, 69.5, 71.2, 72.0, 72.9, 75.0, 76.2, 77.5, 78.9], \"xaxis\": \"x\", \"y\": [65.30176369504319, 63.668868013122534, 63.38070995160712, 62.32413039271729, 60.97939277231203, 60.69123471079662, 59.82676052625039, 59.73070783907858, 59.44254977756318, 59.05833902887596, 57.52149603412711, 57.23333797261169, 56.08070572655006, 56.08070572655006, 55.69649497786284, 54.15965198311398, 53.77544123442677, 53.77544123442677, 53.58333586008316, 52.814914362708734, 52.62280898836513, 51.8543874909907, 51.566229429475285, 50.893860619272665, 50.41359718341365, 49.74122837321102, 48.780701501492985, 48.684648814321186, 48.01228000411856, 47.91622731694676, 45.995173573510684, 45.51491013765167, 45.322804763308056, 44.55438326593363, 44.17017251724642, 44.07411983007461, 43.59385639421559, 43.11359295835658, 43.01754027118478, 41.576749963607725, 41.48069727643593, 40.616223091889694, 39.94385428168707, 39.65569622017165, 38.02280053825099, 37.25437904087657, 36.38990485633033, 34.372798425722465, 33.22016617966082, 31.971481246427373, 30.62674362602212], \"yaxis\": \"y\"}],                        {\"coloraxis\": {\"cmax\": 69.9, \"cmin\": 30.4, \"colorbar\": {\"title\": {\"text\": \"Percent Republican Vote\"}}, \"colorscale\": [[0.0, \"rgb(5,48,97)\"], [0.1, \"rgb(33,102,172)\"], [0.2, \"rgb(67,147,195)\"], [0.3, \"rgb(146,197,222)\"], [0.4, \"rgb(209,229,240)\"], [0.5, \"rgb(247,247,247)\"], [0.6, \"rgb(253,219,199)\"], [0.7, \"rgb(244,165,130)\"], [0.8, \"rgb(214,96,77)\"], [0.9, \"rgb(178,24,43)\"], [1.0, \"rgb(103,0,31)\"]]}, \"legend\": {\"itemsizing\": \"constant\", \"tracegroupgap\": 0}, \"template\": {\"data\": {\"bar\": [{\"error_x\": {\"color\": \"#2a3f5f\"}, \"error_y\": {\"color\": \"#2a3f5f\"}, \"marker\": {\"line\": {\"color\": \"#E5ECF6\", \"width\": 0.5}}, \"type\": \"bar\"}], \"barpolar\": [{\"marker\": {\"line\": {\"color\": \"#E5ECF6\", \"width\": 0.5}}, \"type\": \"barpolar\"}], \"carpet\": [{\"aaxis\": {\"endlinecolor\": \"#2a3f5f\", \"gridcolor\": \"white\", \"linecolor\": \"white\", \"minorgridcolor\": \"white\", \"startlinecolor\": \"#2a3f5f\"}, \"baxis\": {\"endlinecolor\": \"#2a3f5f\", \"gridcolor\": \"white\", \"linecolor\": \"white\", \"minorgridcolor\": \"white\", \"startlinecolor\": \"#2a3f5f\"}, \"type\": \"carpet\"}], \"choropleth\": [{\"colorbar\": {\"outlinewidth\": 0, \"ticks\": \"\"}, \"type\": \"choropleth\"}], \"contour\": [{\"colorbar\": {\"outlinewidth\": 0, \"ticks\": \"\"}, \"colorscale\": [[0.0, \"#0d0887\"], [0.1111111111111111, \"#46039f\"], [0.2222222222222222, \"#7201a8\"], [0.3333333333333333, \"#9c179e\"], [0.4444444444444444, \"#bd3786\"], [0.5555555555555556, \"#d8576b\"], [0.6666666666666666, \"#ed7953\"], [0.7777777777777778, \"#fb9f3a\"], [0.8888888888888888, \"#fdca26\"], [1.0, \"#f0f921\"]], \"type\": \"contour\"}], \"contourcarpet\": [{\"colorbar\": {\"outlinewidth\": 0, \"ticks\": \"\"}, \"type\": \"contourcarpet\"}], \"heatmap\": [{\"colorbar\": {\"outlinewidth\": 0, \"ticks\": \"\"}, \"colorscale\": [[0.0, \"#0d0887\"], [0.1111111111111111, \"#46039f\"], [0.2222222222222222, \"#7201a8\"], [0.3333333333333333, \"#9c179e\"], [0.4444444444444444, \"#bd3786\"], [0.5555555555555556, \"#d8576b\"], [0.6666666666666666, \"#ed7953\"], [0.7777777777777778, \"#fb9f3a\"], [0.8888888888888888, \"#fdca26\"], [1.0, \"#f0f921\"]], \"type\": \"heatmap\"}], \"heatmapgl\": [{\"colorbar\": {\"outlinewidth\": 0, \"ticks\": \"\"}, \"colorscale\": [[0.0, \"#0d0887\"], [0.1111111111111111, \"#46039f\"], [0.2222222222222222, \"#7201a8\"], [0.3333333333333333, \"#9c179e\"], [0.4444444444444444, \"#bd3786\"], [0.5555555555555556, \"#d8576b\"], [0.6666666666666666, \"#ed7953\"], [0.7777777777777778, \"#fb9f3a\"], [0.8888888888888888, \"#fdca26\"], [1.0, \"#f0f921\"]], \"type\": \"heatmapgl\"}], \"histogram\": [{\"marker\": {\"colorbar\": {\"outlinewidth\": 0, \"ticks\": \"\"}}, \"type\": \"histogram\"}], \"histogram2d\": [{\"colorbar\": {\"outlinewidth\": 0, \"ticks\": \"\"}, \"colorscale\": [[0.0, \"#0d0887\"], [0.1111111111111111, \"#46039f\"], [0.2222222222222222, \"#7201a8\"], [0.3333333333333333, \"#9c179e\"], [0.4444444444444444, \"#bd3786\"], [0.5555555555555556, \"#d8576b\"], [0.6666666666666666, \"#ed7953\"], [0.7777777777777778, \"#fb9f3a\"], [0.8888888888888888, \"#fdca26\"], [1.0, \"#f0f921\"]], \"type\": \"histogram2d\"}], \"histogram2dcontour\": [{\"colorbar\": {\"outlinewidth\": 0, \"ticks\": \"\"}, \"colorscale\": [[0.0, \"#0d0887\"], [0.1111111111111111, \"#46039f\"], [0.2222222222222222, \"#7201a8\"], [0.3333333333333333, \"#9c179e\"], [0.4444444444444444, \"#bd3786\"], [0.5555555555555556, \"#d8576b\"], [0.6666666666666666, \"#ed7953\"], [0.7777777777777778, \"#fb9f3a\"], [0.8888888888888888, \"#fdca26\"], [1.0, \"#f0f921\"]], \"type\": \"histogram2dcontour\"}], \"mesh3d\": [{\"colorbar\": {\"outlinewidth\": 0, \"ticks\": \"\"}, \"type\": \"mesh3d\"}], \"parcoords\": [{\"line\": {\"colorbar\": {\"outlinewidth\": 0, \"ticks\": \"\"}}, \"type\": \"parcoords\"}], \"pie\": [{\"automargin\": true, \"type\": \"pie\"}], \"scatter\": [{\"marker\": {\"colorbar\": {\"outlinewidth\": 0, \"ticks\": \"\"}}, \"type\": \"scatter\"}], \"scatter3d\": [{\"line\": {\"colorbar\": {\"outlinewidth\": 0, \"ticks\": \"\"}}, \"marker\": {\"colorbar\": {\"outlinewidth\": 0, \"ticks\": \"\"}}, \"type\": \"scatter3d\"}], \"scattercarpet\": [{\"marker\": {\"colorbar\": {\"outlinewidth\": 0, \"ticks\": \"\"}}, \"type\": \"scattercarpet\"}], \"scattergeo\": [{\"marker\": {\"colorbar\": {\"outlinewidth\": 0, \"ticks\": \"\"}}, \"type\": \"scattergeo\"}], \"scattergl\": [{\"marker\": {\"colorbar\": {\"outlinewidth\": 0, \"ticks\": \"\"}}, \"type\": \"scattergl\"}], \"scattermapbox\": [{\"marker\": {\"colorbar\": {\"outlinewidth\": 0, \"ticks\": \"\"}}, \"type\": \"scattermapbox\"}], \"scatterpolar\": [{\"marker\": {\"colorbar\": {\"outlinewidth\": 0, \"ticks\": \"\"}}, \"type\": \"scatterpolar\"}], \"scatterpolargl\": [{\"marker\": {\"colorbar\": {\"outlinewidth\": 0, \"ticks\": \"\"}}, \"type\": \"scatterpolargl\"}], \"scatterternary\": [{\"marker\": {\"colorbar\": {\"outlinewidth\": 0, \"ticks\": \"\"}}, \"type\": \"scatterternary\"}], \"surface\": [{\"colorbar\": {\"outlinewidth\": 0, \"ticks\": \"\"}, \"colorscale\": [[0.0, \"#0d0887\"], [0.1111111111111111, \"#46039f\"], [0.2222222222222222, \"#7201a8\"], [0.3333333333333333, \"#9c179e\"], [0.4444444444444444, \"#bd3786\"], [0.5555555555555556, \"#d8576b\"], [0.6666666666666666, \"#ed7953\"], [0.7777777777777778, \"#fb9f3a\"], [0.8888888888888888, \"#fdca26\"], [1.0, \"#f0f921\"]], \"type\": \"surface\"}], \"table\": [{\"cells\": {\"fill\": {\"color\": \"#EBF0F8\"}, \"line\": {\"color\": \"white\"}}, \"header\": {\"fill\": {\"color\": \"#C8D4E3\"}, \"line\": {\"color\": \"white\"}}, \"type\": \"table\"}]}, \"layout\": {\"annotationdefaults\": {\"arrowcolor\": \"#2a3f5f\", \"arrowhead\": 0, \"arrowwidth\": 1}, \"autotypenumbers\": \"strict\", \"coloraxis\": {\"colorbar\": {\"outlinewidth\": 0, \"ticks\": \"\"}}, \"colorscale\": {\"diverging\": [[0, \"#8e0152\"], [0.1, \"#c51b7d\"], [0.2, \"#de77ae\"], [0.3, \"#f1b6da\"], [0.4, \"#fde0ef\"], [0.5, \"#f7f7f7\"], [0.6, \"#e6f5d0\"], [0.7, \"#b8e186\"], [0.8, \"#7fbc41\"], [0.9, \"#4d9221\"], [1, \"#276419\"]], \"sequential\": [[0.0, \"#0d0887\"], [0.1111111111111111, \"#46039f\"], [0.2222222222222222, \"#7201a8\"], [0.3333333333333333, \"#9c179e\"], [0.4444444444444444, \"#bd3786\"], [0.5555555555555556, \"#d8576b\"], [0.6666666666666666, \"#ed7953\"], [0.7777777777777778, \"#fb9f3a\"], [0.8888888888888888, \"#fdca26\"], [1.0, \"#f0f921\"]], \"sequentialminus\": [[0.0, \"#0d0887\"], [0.1111111111111111, \"#46039f\"], [0.2222222222222222, \"#7201a8\"], [0.3333333333333333, \"#9c179e\"], [0.4444444444444444, \"#bd3786\"], [0.5555555555555556, \"#d8576b\"], [0.6666666666666666, \"#ed7953\"], [0.7777777777777778, \"#fb9f3a\"], [0.8888888888888888, \"#fdca26\"], [1.0, \"#f0f921\"]]}, \"colorway\": [\"#636efa\", \"#EF553B\", \"#00cc96\", \"#ab63fa\", \"#FFA15A\", \"#19d3f3\", \"#FF6692\", \"#B6E880\", \"#FF97FF\", \"#FECB52\"], \"font\": {\"color\": \"#2a3f5f\"}, \"geo\": {\"bgcolor\": \"white\", \"lakecolor\": \"white\", \"landcolor\": \"#E5ECF6\", \"showlakes\": true, \"showland\": true, \"subunitcolor\": \"white\"}, \"hoverlabel\": {\"align\": \"left\"}, \"hovermode\": \"closest\", \"mapbox\": {\"style\": \"light\"}, \"paper_bgcolor\": \"white\", \"plot_bgcolor\": \"#E5ECF6\", \"polar\": {\"angularaxis\": {\"gridcolor\": \"white\", \"linecolor\": \"white\", \"ticks\": \"\"}, \"bgcolor\": \"#E5ECF6\", \"radialaxis\": {\"gridcolor\": \"white\", \"linecolor\": \"white\", \"ticks\": \"\"}}, \"scene\": {\"xaxis\": {\"backgroundcolor\": \"#E5ECF6\", \"gridcolor\": \"white\", \"gridwidth\": 2, \"linecolor\": \"white\", \"showbackground\": true, \"ticks\": \"\", \"zerolinecolor\": \"white\"}, \"yaxis\": {\"backgroundcolor\": \"#E5ECF6\", \"gridcolor\": \"white\", \"gridwidth\": 2, \"linecolor\": \"white\", \"showbackground\": true, \"ticks\": \"\", \"zerolinecolor\": \"white\"}, \"zaxis\": {\"backgroundcolor\": \"#E5ECF6\", \"gridcolor\": \"white\", \"gridwidth\": 2, \"linecolor\": \"white\", \"showbackground\": true, \"ticks\": \"\", \"zerolinecolor\": \"white\"}}, \"shapedefaults\": {\"line\": {\"color\": \"#2a3f5f\"}}, \"ternary\": {\"aaxis\": {\"gridcolor\": \"white\", \"linecolor\": \"white\", \"ticks\": \"\"}, \"baxis\": {\"gridcolor\": \"white\", \"linecolor\": \"white\", \"ticks\": \"\"}, \"bgcolor\": \"#E5ECF6\", \"caxis\": {\"gridcolor\": \"white\", \"linecolor\": \"white\", \"ticks\": \"\"}}, \"title\": {\"x\": 0.05}, \"xaxis\": {\"automargin\": true, \"gridcolor\": \"white\", \"linecolor\": \"white\", \"ticks\": \"\", \"title\": {\"standoff\": 15}, \"zerolinecolor\": \"white\", \"zerolinewidth\": 2}, \"yaxis\": {\"automargin\": true, \"gridcolor\": \"white\", \"linecolor\": \"white\", \"ticks\": \"\", \"title\": {\"standoff\": 15}, \"zerolinecolor\": \"white\", \"zerolinewidth\": 2}}}, \"title\": {\"text\": \"Republican Vote in 2020 Presidential Election vs. Covid-19 Vaccination\"}, \"xaxis\": {\"anchor\": \"y\", \"domain\": [0.0, 1.0], \"title\": {\"text\": \"Percent of 18+ with at least One Dose\"}}, \"yaxis\": {\"anchor\": \"x\", \"domain\": [0.0, 1.0], \"title\": {\"text\": \"Percent Republican Vote\"}}},                        {\"responsive\": true}                    ).then(function(){\n",
       "                            \n",
       "var gd = document.getElementById('81781964-16b0-4994-8739-7cff8ea7470c');\n",
       "var x = new MutationObserver(function (mutations, observer) {{\n",
       "        var display = window.getComputedStyle(gd).display;\n",
       "        if (!display || display === 'none') {{\n",
       "            console.log([gd, 'removed!']);\n",
       "            Plotly.purge(gd);\n",
       "            observer.disconnect();\n",
       "        }}\n",
       "}});\n",
       "\n",
       "// Listen for the removal of the full notebook cells\n",
       "var notebookContainer = gd.closest('#notebook-container');\n",
       "if (notebookContainer) {{\n",
       "    x.observe(notebookContainer, {childList: true});\n",
       "}}\n",
       "\n",
       "// Listen for the clearing of the current output cell\n",
       "var outputEl = gd.closest('.output');\n",
       "if (outputEl) {{\n",
       "    x.observe(outputEl, {childList: true});\n",
       "}}\n",
       "\n",
       "                        })                };                });            </script>        </div>"
      ]
     },
     "metadata": {},
     "output_type": "display_data"
    }
   ],
   "source": [
    "# Plot with Plotly for the interactive hover data and easy regression line\n",
    "\n",
    "# Setting color min and max. Otherwise the District of Columbia, at a mere 5.4% for Trump, \n",
    "# pulls the minimum of the color bar so low that most \"blue\" states are too pale to see.\n",
    "\n",
    "color_min = votevax[\"Percent Republican Vote\"].min() + 25\n",
    "color_max = votevax[\"Percent Republican Vote\"].max()\n",
    "\n",
    "px.scatter(votevax, x=\"Percent of 18+ with at least One Dose\", y=\"Percent Republican Vote\",\n",
    "           size=\"Population\", size_max=50,\n",
    "           color=\"Percent Republican Vote\", color_continuous_scale=\"RdBu_r\", range_color=[color_min, color_max],\n",
    "           hover_name=\"State\",\n",
    "           trendline=\"ols\", trendline_color_override=\"SlateGray\",\n",
    "           title=\"Republican Vote in 2020 Presidential Election vs. Covid-19 Vaccination\"  \n",
    "          )"
   ]
  },
  {
   "cell_type": "markdown",
   "id": "vital-wrong",
   "metadata": {},
   "source": [
    "I have put the percent vaccinated on the x axis above to mimic the orientation of NPR's original swarm. However, if the percent who voted Republican in the 2020 Presidential Election is considered a *predictor* of percent vaccinated, then it should righty be on the x axis. In that case, the regression line will predict the percent vaccinated based on previous voting patterns. Below is that chart:"
   ]
  },
  {
   "cell_type": "code",
   "execution_count": 150,
   "id": "greek-antigua",
   "metadata": {},
   "outputs": [
    {
     "data": {
      "application/vnd.plotly.v1+json": {
       "config": {
        "plotlyServerURL": "https://plot.ly"
       },
       "data": [
        {
         "hovertemplate": "<b>%{hovertext}</b><br><br>Percent Republican Vote=%{marker.color}<br>Percent of 18+ with at least One Dose=%{y}<br>Population=%{marker.size}<extra></extra>",
         "hovertext": [
          "Alabama",
          "Alaska",
          "Arizona",
          "Arkansas",
          "California",
          "Colorado",
          "Connecticut",
          "Delaware",
          "District of Columbia",
          "Florida",
          "Georgia",
          "Hawaii",
          "Idaho",
          "Illinois",
          "Indiana",
          "Iowa",
          "Kansas",
          "Kentucky",
          "Louisiana",
          "Maine",
          "Maryland",
          "Massachusetts",
          "Michigan",
          "Minnesota",
          "Mississippi",
          "Missouri",
          "Montana",
          "Nebraska",
          "Nevada",
          "New Hampshire",
          "New Jersey",
          "New Mexico",
          "New York",
          "North Carolina",
          "North Dakota",
          "Ohio",
          "Oklahoma",
          "Oregon",
          "Pennsylvania",
          "Rhode Island",
          "South Carolina",
          "South Dakota",
          "Tennessee",
          "Texas",
          "Utah",
          "Vermont",
          "Virginia",
          "Washington",
          "West Virginia",
          "Wisconsin",
          "Wyoming"
         ],
         "legendgroup": "",
         "marker": {
          "color": [
           62,
           52.8,
           49.1,
           62.4,
           34.3,
           41.9,
           39.2,
           39.8,
           5.4,
           51.2,
           49.3,
           34.3,
           63.9,
           40.6,
           57,
           53.1,
           56.2,
           62.1,
           58.5,
           44,
           32.2,
           32.1,
           47.8,
           45.3,
           57.6,
           56.8,
           56.9,
           58.5,
           47.7,
           45.4,
           41.4,
           43.5,
           37.7,
           49.9,
           65.1,
           53.3,
           65.4,
           40.4,
           48.8,
           38.6,
           55.1,
           61.8,
           60.7,
           52.1,
           58.1,
           30.7,
           44,
           38.8,
           68.6,
           48.8,
           69.9
          ],
          "coloraxis": "coloraxis",
          "size": [
           4903197,
           731542,
           7278689,
           3017812,
           39512110,
           5758748,
           3565280,
           973764,
           705749,
           21477732,
           10617457,
           1415867,
           1787056,
           12671796,
           6732234,
           3155060,
           2913328,
           4467689,
           4648818,
           1344212,
           6045683,
           6892517,
           9986883,
           5639639,
           2976142,
           6137405,
           1068777,
           1934400,
           3080162,
           1359712,
           8882153,
           2096830,
           19453619,
           10488086,
           762058,
           11689095,
           3956965,
           4217747,
           12801974,
           1059361,
           5148724,
           884660,
           6829184,
           28995927,
           3205965,
           623990,
           8535487,
           7614891,
           1792144,
           5822405,
           578756
          ],
          "sizemode": "area",
          "sizeref": 15804.844,
          "symbol": "circle"
         },
         "mode": "markers",
         "name": "",
         "orientation": "v",
         "showlegend": false,
         "type": "scatter",
         "x": [
          62,
          52.8,
          49.1,
          62.4,
          34.3,
          41.9,
          39.2,
          39.8,
          5.4,
          51.2,
          49.3,
          34.3,
          63.9,
          40.6,
          57,
          53.1,
          56.2,
          62.1,
          58.5,
          44,
          32.2,
          32.1,
          47.8,
          45.3,
          57.6,
          56.8,
          56.9,
          58.5,
          47.7,
          45.4,
          41.4,
          43.5,
          37.7,
          49.9,
          65.1,
          53.3,
          65.4,
          40.4,
          48.8,
          38.6,
          55.1,
          61.8,
          60.7,
          52.1,
          58.1,
          30.7,
          44,
          38.8,
          68.6,
          48.8,
          69.9
         ],
         "xaxis": "x",
         "y": [
          44.8,
          56.8,
          55.8,
          48.6,
          67.5,
          63.6,
          72.9,
          63.4,
          66,
          57.1,
          48.9,
          77.5,
          48.5,
          64.4,
          50.9,
          60,
          58.3,
          56,
          44.5,
          72,
          67.6,
          76.2,
          57.8,
          65.4,
          42.8,
          51.2,
          54.4,
          60.1,
          54.8,
          75,
          71.2,
          69.2,
          64.9,
          52.4,
          52.8,
          54.8,
          52.4,
          62.9,
          68.5,
          69.5,
          49.3,
          60.8,
          47.6,
          55,
          59,
          78.9,
          64.8,
          65.9,
          47.3,
          60.9,
          45.9
         ],
         "yaxis": "y"
        },
        {
         "hovertemplate": "<b>OLS trendline</b><br>Percent of 18+ with at least One Dose = -0.590422 * Percent Republican Vote + 88.6043<br>R<sup>2</sup>=0.567116<br><br>Percent Republican Vote=%{x}<br>Percent of 18+ with at least One Dose=%{y} <b>(trend)</b><extra></extra>",
         "legendgroup": "",
         "line": {
          "color": "SlateGray"
         },
         "marker": {
          "symbol": "circle"
         },
         "mode": "lines",
         "name": "",
         "showlegend": false,
         "type": "scatter",
         "x": [
          5.4,
          30.7,
          32.1,
          32.2,
          34.3,
          34.3,
          37.7,
          38.6,
          38.8,
          39.2,
          39.8,
          40.4,
          40.6,
          41.4,
          41.9,
          43.5,
          44,
          44,
          45.3,
          45.4,
          47.7,
          47.8,
          48.8,
          48.8,
          49.1,
          49.3,
          49.9,
          51.2,
          52.1,
          52.8,
          53.1,
          53.3,
          55.1,
          56.2,
          56.8,
          56.9,
          57,
          57.6,
          58.1,
          58.5,
          58.5,
          60.7,
          61.8,
          62,
          62.1,
          62.4,
          63.9,
          65.1,
          65.4,
          68.6,
          69.9
         ],
         "xaxis": "x",
         "y": [
          85.41600396611501,
          70.47832556745826,
          69.65173466792785,
          69.59269246081854,
          68.35280611152291,
          68.35280611152291,
          66.34537106980619,
          65.81399120582236,
          65.69590679160373,
          65.45973796316648,
          65.10548472051059,
          64.75123147785469,
          64.63314706363606,
          64.16080940676153,
          63.86559837121496,
          62.92092305746591,
          62.62571202191934,
          62.62571202191934,
          61.85816332949824,
          61.799121122388925,
          60.44115035887468,
          60.382108151765365,
          59.79168608067221,
          59.79168608067221,
          59.614559459344264,
          59.496475045125635,
          59.14222180246974,
          58.37467311004865,
          57.8432932460648,
          57.4299977962996,
          57.25287117497166,
          57.13478676075303,
          56.07202703278535,
          55.422562754582884,
          55.06830951192699,
          55.009267304817676,
          54.95022509770836,
          54.59597185505247,
          54.300760819505896,
          54.06459199106863,
          54.06459199106863,
          52.7656634346637,
          52.116199156461235,
          51.9981147422426,
          51.939072535133285,
          51.76194591380534,
          50.87631280716561,
          50.16780632185383,
          49.99067970052588,
          48.1013290730278,
          47.3337803806067
         ],
         "yaxis": "y"
        }
       ],
       "layout": {
        "coloraxis": {
         "cmax": 69.9,
         "cmin": 30.4,
         "colorbar": {
          "title": {
           "text": "Percent Republican Vote"
          }
         },
         "colorscale": [
          [
           0,
           "rgb(5,48,97)"
          ],
          [
           0.1,
           "rgb(33,102,172)"
          ],
          [
           0.2,
           "rgb(67,147,195)"
          ],
          [
           0.3,
           "rgb(146,197,222)"
          ],
          [
           0.4,
           "rgb(209,229,240)"
          ],
          [
           0.5,
           "rgb(247,247,247)"
          ],
          [
           0.6,
           "rgb(253,219,199)"
          ],
          [
           0.7,
           "rgb(244,165,130)"
          ],
          [
           0.8,
           "rgb(214,96,77)"
          ],
          [
           0.9,
           "rgb(178,24,43)"
          ],
          [
           1,
           "rgb(103,0,31)"
          ]
         ]
        },
        "legend": {
         "itemsizing": "constant",
         "tracegroupgap": 0
        },
        "template": {
         "data": {
          "bar": [
           {
            "error_x": {
             "color": "#2a3f5f"
            },
            "error_y": {
             "color": "#2a3f5f"
            },
            "marker": {
             "line": {
              "color": "#E5ECF6",
              "width": 0.5
             }
            },
            "type": "bar"
           }
          ],
          "barpolar": [
           {
            "marker": {
             "line": {
              "color": "#E5ECF6",
              "width": 0.5
             }
            },
            "type": "barpolar"
           }
          ],
          "carpet": [
           {
            "aaxis": {
             "endlinecolor": "#2a3f5f",
             "gridcolor": "white",
             "linecolor": "white",
             "minorgridcolor": "white",
             "startlinecolor": "#2a3f5f"
            },
            "baxis": {
             "endlinecolor": "#2a3f5f",
             "gridcolor": "white",
             "linecolor": "white",
             "minorgridcolor": "white",
             "startlinecolor": "#2a3f5f"
            },
            "type": "carpet"
           }
          ],
          "choropleth": [
           {
            "colorbar": {
             "outlinewidth": 0,
             "ticks": ""
            },
            "type": "choropleth"
           }
          ],
          "contour": [
           {
            "colorbar": {
             "outlinewidth": 0,
             "ticks": ""
            },
            "colorscale": [
             [
              0,
              "#0d0887"
             ],
             [
              0.1111111111111111,
              "#46039f"
             ],
             [
              0.2222222222222222,
              "#7201a8"
             ],
             [
              0.3333333333333333,
              "#9c179e"
             ],
             [
              0.4444444444444444,
              "#bd3786"
             ],
             [
              0.5555555555555556,
              "#d8576b"
             ],
             [
              0.6666666666666666,
              "#ed7953"
             ],
             [
              0.7777777777777778,
              "#fb9f3a"
             ],
             [
              0.8888888888888888,
              "#fdca26"
             ],
             [
              1,
              "#f0f921"
             ]
            ],
            "type": "contour"
           }
          ],
          "contourcarpet": [
           {
            "colorbar": {
             "outlinewidth": 0,
             "ticks": ""
            },
            "type": "contourcarpet"
           }
          ],
          "heatmap": [
           {
            "colorbar": {
             "outlinewidth": 0,
             "ticks": ""
            },
            "colorscale": [
             [
              0,
              "#0d0887"
             ],
             [
              0.1111111111111111,
              "#46039f"
             ],
             [
              0.2222222222222222,
              "#7201a8"
             ],
             [
              0.3333333333333333,
              "#9c179e"
             ],
             [
              0.4444444444444444,
              "#bd3786"
             ],
             [
              0.5555555555555556,
              "#d8576b"
             ],
             [
              0.6666666666666666,
              "#ed7953"
             ],
             [
              0.7777777777777778,
              "#fb9f3a"
             ],
             [
              0.8888888888888888,
              "#fdca26"
             ],
             [
              1,
              "#f0f921"
             ]
            ],
            "type": "heatmap"
           }
          ],
          "heatmapgl": [
           {
            "colorbar": {
             "outlinewidth": 0,
             "ticks": ""
            },
            "colorscale": [
             [
              0,
              "#0d0887"
             ],
             [
              0.1111111111111111,
              "#46039f"
             ],
             [
              0.2222222222222222,
              "#7201a8"
             ],
             [
              0.3333333333333333,
              "#9c179e"
             ],
             [
              0.4444444444444444,
              "#bd3786"
             ],
             [
              0.5555555555555556,
              "#d8576b"
             ],
             [
              0.6666666666666666,
              "#ed7953"
             ],
             [
              0.7777777777777778,
              "#fb9f3a"
             ],
             [
              0.8888888888888888,
              "#fdca26"
             ],
             [
              1,
              "#f0f921"
             ]
            ],
            "type": "heatmapgl"
           }
          ],
          "histogram": [
           {
            "marker": {
             "colorbar": {
              "outlinewidth": 0,
              "ticks": ""
             }
            },
            "type": "histogram"
           }
          ],
          "histogram2d": [
           {
            "colorbar": {
             "outlinewidth": 0,
             "ticks": ""
            },
            "colorscale": [
             [
              0,
              "#0d0887"
             ],
             [
              0.1111111111111111,
              "#46039f"
             ],
             [
              0.2222222222222222,
              "#7201a8"
             ],
             [
              0.3333333333333333,
              "#9c179e"
             ],
             [
              0.4444444444444444,
              "#bd3786"
             ],
             [
              0.5555555555555556,
              "#d8576b"
             ],
             [
              0.6666666666666666,
              "#ed7953"
             ],
             [
              0.7777777777777778,
              "#fb9f3a"
             ],
             [
              0.8888888888888888,
              "#fdca26"
             ],
             [
              1,
              "#f0f921"
             ]
            ],
            "type": "histogram2d"
           }
          ],
          "histogram2dcontour": [
           {
            "colorbar": {
             "outlinewidth": 0,
             "ticks": ""
            },
            "colorscale": [
             [
              0,
              "#0d0887"
             ],
             [
              0.1111111111111111,
              "#46039f"
             ],
             [
              0.2222222222222222,
              "#7201a8"
             ],
             [
              0.3333333333333333,
              "#9c179e"
             ],
             [
              0.4444444444444444,
              "#bd3786"
             ],
             [
              0.5555555555555556,
              "#d8576b"
             ],
             [
              0.6666666666666666,
              "#ed7953"
             ],
             [
              0.7777777777777778,
              "#fb9f3a"
             ],
             [
              0.8888888888888888,
              "#fdca26"
             ],
             [
              1,
              "#f0f921"
             ]
            ],
            "type": "histogram2dcontour"
           }
          ],
          "mesh3d": [
           {
            "colorbar": {
             "outlinewidth": 0,
             "ticks": ""
            },
            "type": "mesh3d"
           }
          ],
          "parcoords": [
           {
            "line": {
             "colorbar": {
              "outlinewidth": 0,
              "ticks": ""
             }
            },
            "type": "parcoords"
           }
          ],
          "pie": [
           {
            "automargin": true,
            "type": "pie"
           }
          ],
          "scatter": [
           {
            "marker": {
             "colorbar": {
              "outlinewidth": 0,
              "ticks": ""
             }
            },
            "type": "scatter"
           }
          ],
          "scatter3d": [
           {
            "line": {
             "colorbar": {
              "outlinewidth": 0,
              "ticks": ""
             }
            },
            "marker": {
             "colorbar": {
              "outlinewidth": 0,
              "ticks": ""
             }
            },
            "type": "scatter3d"
           }
          ],
          "scattercarpet": [
           {
            "marker": {
             "colorbar": {
              "outlinewidth": 0,
              "ticks": ""
             }
            },
            "type": "scattercarpet"
           }
          ],
          "scattergeo": [
           {
            "marker": {
             "colorbar": {
              "outlinewidth": 0,
              "ticks": ""
             }
            },
            "type": "scattergeo"
           }
          ],
          "scattergl": [
           {
            "marker": {
             "colorbar": {
              "outlinewidth": 0,
              "ticks": ""
             }
            },
            "type": "scattergl"
           }
          ],
          "scattermapbox": [
           {
            "marker": {
             "colorbar": {
              "outlinewidth": 0,
              "ticks": ""
             }
            },
            "type": "scattermapbox"
           }
          ],
          "scatterpolar": [
           {
            "marker": {
             "colorbar": {
              "outlinewidth": 0,
              "ticks": ""
             }
            },
            "type": "scatterpolar"
           }
          ],
          "scatterpolargl": [
           {
            "marker": {
             "colorbar": {
              "outlinewidth": 0,
              "ticks": ""
             }
            },
            "type": "scatterpolargl"
           }
          ],
          "scatterternary": [
           {
            "marker": {
             "colorbar": {
              "outlinewidth": 0,
              "ticks": ""
             }
            },
            "type": "scatterternary"
           }
          ],
          "surface": [
           {
            "colorbar": {
             "outlinewidth": 0,
             "ticks": ""
            },
            "colorscale": [
             [
              0,
              "#0d0887"
             ],
             [
              0.1111111111111111,
              "#46039f"
             ],
             [
              0.2222222222222222,
              "#7201a8"
             ],
             [
              0.3333333333333333,
              "#9c179e"
             ],
             [
              0.4444444444444444,
              "#bd3786"
             ],
             [
              0.5555555555555556,
              "#d8576b"
             ],
             [
              0.6666666666666666,
              "#ed7953"
             ],
             [
              0.7777777777777778,
              "#fb9f3a"
             ],
             [
              0.8888888888888888,
              "#fdca26"
             ],
             [
              1,
              "#f0f921"
             ]
            ],
            "type": "surface"
           }
          ],
          "table": [
           {
            "cells": {
             "fill": {
              "color": "#EBF0F8"
             },
             "line": {
              "color": "white"
             }
            },
            "header": {
             "fill": {
              "color": "#C8D4E3"
             },
             "line": {
              "color": "white"
             }
            },
            "type": "table"
           }
          ]
         },
         "layout": {
          "annotationdefaults": {
           "arrowcolor": "#2a3f5f",
           "arrowhead": 0,
           "arrowwidth": 1
          },
          "autotypenumbers": "strict",
          "coloraxis": {
           "colorbar": {
            "outlinewidth": 0,
            "ticks": ""
           }
          },
          "colorscale": {
           "diverging": [
            [
             0,
             "#8e0152"
            ],
            [
             0.1,
             "#c51b7d"
            ],
            [
             0.2,
             "#de77ae"
            ],
            [
             0.3,
             "#f1b6da"
            ],
            [
             0.4,
             "#fde0ef"
            ],
            [
             0.5,
             "#f7f7f7"
            ],
            [
             0.6,
             "#e6f5d0"
            ],
            [
             0.7,
             "#b8e186"
            ],
            [
             0.8,
             "#7fbc41"
            ],
            [
             0.9,
             "#4d9221"
            ],
            [
             1,
             "#276419"
            ]
           ],
           "sequential": [
            [
             0,
             "#0d0887"
            ],
            [
             0.1111111111111111,
             "#46039f"
            ],
            [
             0.2222222222222222,
             "#7201a8"
            ],
            [
             0.3333333333333333,
             "#9c179e"
            ],
            [
             0.4444444444444444,
             "#bd3786"
            ],
            [
             0.5555555555555556,
             "#d8576b"
            ],
            [
             0.6666666666666666,
             "#ed7953"
            ],
            [
             0.7777777777777778,
             "#fb9f3a"
            ],
            [
             0.8888888888888888,
             "#fdca26"
            ],
            [
             1,
             "#f0f921"
            ]
           ],
           "sequentialminus": [
            [
             0,
             "#0d0887"
            ],
            [
             0.1111111111111111,
             "#46039f"
            ],
            [
             0.2222222222222222,
             "#7201a8"
            ],
            [
             0.3333333333333333,
             "#9c179e"
            ],
            [
             0.4444444444444444,
             "#bd3786"
            ],
            [
             0.5555555555555556,
             "#d8576b"
            ],
            [
             0.6666666666666666,
             "#ed7953"
            ],
            [
             0.7777777777777778,
             "#fb9f3a"
            ],
            [
             0.8888888888888888,
             "#fdca26"
            ],
            [
             1,
             "#f0f921"
            ]
           ]
          },
          "colorway": [
           "#636efa",
           "#EF553B",
           "#00cc96",
           "#ab63fa",
           "#FFA15A",
           "#19d3f3",
           "#FF6692",
           "#B6E880",
           "#FF97FF",
           "#FECB52"
          ],
          "font": {
           "color": "#2a3f5f"
          },
          "geo": {
           "bgcolor": "white",
           "lakecolor": "white",
           "landcolor": "#E5ECF6",
           "showlakes": true,
           "showland": true,
           "subunitcolor": "white"
          },
          "hoverlabel": {
           "align": "left"
          },
          "hovermode": "closest",
          "mapbox": {
           "style": "light"
          },
          "paper_bgcolor": "white",
          "plot_bgcolor": "#E5ECF6",
          "polar": {
           "angularaxis": {
            "gridcolor": "white",
            "linecolor": "white",
            "ticks": ""
           },
           "bgcolor": "#E5ECF6",
           "radialaxis": {
            "gridcolor": "white",
            "linecolor": "white",
            "ticks": ""
           }
          },
          "scene": {
           "xaxis": {
            "backgroundcolor": "#E5ECF6",
            "gridcolor": "white",
            "gridwidth": 2,
            "linecolor": "white",
            "showbackground": true,
            "ticks": "",
            "zerolinecolor": "white"
           },
           "yaxis": {
            "backgroundcolor": "#E5ECF6",
            "gridcolor": "white",
            "gridwidth": 2,
            "linecolor": "white",
            "showbackground": true,
            "ticks": "",
            "zerolinecolor": "white"
           },
           "zaxis": {
            "backgroundcolor": "#E5ECF6",
            "gridcolor": "white",
            "gridwidth": 2,
            "linecolor": "white",
            "showbackground": true,
            "ticks": "",
            "zerolinecolor": "white"
           }
          },
          "shapedefaults": {
           "line": {
            "color": "#2a3f5f"
           }
          },
          "ternary": {
           "aaxis": {
            "gridcolor": "white",
            "linecolor": "white",
            "ticks": ""
           },
           "baxis": {
            "gridcolor": "white",
            "linecolor": "white",
            "ticks": ""
           },
           "bgcolor": "#E5ECF6",
           "caxis": {
            "gridcolor": "white",
            "linecolor": "white",
            "ticks": ""
           }
          },
          "title": {
           "x": 0.05
          },
          "xaxis": {
           "automargin": true,
           "gridcolor": "white",
           "linecolor": "white",
           "ticks": "",
           "title": {
            "standoff": 15
           },
           "zerolinecolor": "white",
           "zerolinewidth": 2
          },
          "yaxis": {
           "automargin": true,
           "gridcolor": "white",
           "linecolor": "white",
           "ticks": "",
           "title": {
            "standoff": 15
           },
           "zerolinecolor": "white",
           "zerolinewidth": 2
          }
         }
        },
        "title": {
         "text": "Republican Vote in 2020 Presidential Election vs. Covid-19 Vaccination"
        },
        "xaxis": {
         "anchor": "y",
         "domain": [
          0,
          1
         ],
         "title": {
          "text": "Percent Republican Vote"
         }
        },
        "yaxis": {
         "anchor": "x",
         "domain": [
          0,
          1
         ],
         "title": {
          "text": "Percent of 18+ with at least One Dose"
         }
        }
       }
      },
      "text/html": [
       "<div>                            <div id=\"85f3dd98-dc9e-4b42-9bb4-117481e83f2f\" class=\"plotly-graph-div\" style=\"height:525px; width:100%;\"></div>            <script type=\"text/javascript\">                require([\"plotly\"], function(Plotly) {                    window.PLOTLYENV=window.PLOTLYENV || {};                                    if (document.getElementById(\"85f3dd98-dc9e-4b42-9bb4-117481e83f2f\")) {                    Plotly.newPlot(                        \"85f3dd98-dc9e-4b42-9bb4-117481e83f2f\",                        [{\"hovertemplate\": \"<b>%{hovertext}</b><br><br>Percent Republican Vote=%{marker.color}<br>Percent of 18+ with at least One Dose=%{y}<br>Population=%{marker.size}<extra></extra>\", \"hovertext\": [\"Alabama\", \"Alaska\", \"Arizona\", \"Arkansas\", \"California\", \"Colorado\", \"Connecticut\", \"Delaware\", \"District of Columbia\", \"Florida\", \"Georgia\", \"Hawaii\", \"Idaho\", \"Illinois\", \"Indiana\", \"Iowa\", \"Kansas\", \"Kentucky\", \"Louisiana\", \"Maine\", \"Maryland\", \"Massachusetts\", \"Michigan\", \"Minnesota\", \"Mississippi\", \"Missouri\", \"Montana\", \"Nebraska\", \"Nevada\", \"New Hampshire\", \"New Jersey\", \"New Mexico\", \"New York\", \"North Carolina\", \"North Dakota\", \"Ohio\", \"Oklahoma\", \"Oregon\", \"Pennsylvania\", \"Rhode Island\", \"South Carolina\", \"South Dakota\", \"Tennessee\", \"Texas\", \"Utah\", \"Vermont\", \"Virginia\", \"Washington\", \"West Virginia\", \"Wisconsin\", \"Wyoming\"], \"legendgroup\": \"\", \"marker\": {\"color\": [62.0, 52.8, 49.1, 62.4, 34.3, 41.9, 39.2, 39.8, 5.4, 51.2, 49.3, 34.3, 63.9, 40.6, 57.0, 53.1, 56.2, 62.1, 58.5, 44.0, 32.2, 32.1, 47.8, 45.3, 57.6, 56.8, 56.9, 58.5, 47.7, 45.4, 41.4, 43.5, 37.7, 49.9, 65.1, 53.3, 65.4, 40.4, 48.8, 38.6, 55.1, 61.8, 60.7, 52.1, 58.1, 30.7, 44.0, 38.8, 68.6, 48.8, 69.9], \"coloraxis\": \"coloraxis\", \"size\": [4903197.0, 731542.0, 7278689.0, 3017812.0, 39512110.0, 5758748.0, 3565280.0, 973764.0, 705749.0, 21477732.0, 10617457.0, 1415867.0, 1787056.0, 12671796.0, 6732234.0, 3155060.0, 2913328.0, 4467689.0, 4648818.0, 1344212.0, 6045683.0, 6892517.0, 9986883.0, 5639639.0, 2976142.0, 6137405.0, 1068777.0, 1934400.0, 3080162.0, 1359712.0, 8882153.0, 2096830.0, 19453619.0, 10488086.0, 762058.0, 11689095.0, 3956965.0, 4217747.0, 12801974.0, 1059361.0, 5148724.0, 884660.0, 6829184.0, 28995927.0, 3205965.0, 623990.0, 8535487.0, 7614891.0, 1792144.0, 5822405.0, 578756.0], \"sizemode\": \"area\", \"sizeref\": 15804.844, \"symbol\": \"circle\"}, \"mode\": \"markers\", \"name\": \"\", \"orientation\": \"v\", \"showlegend\": false, \"type\": \"scatter\", \"x\": [62.0, 52.8, 49.1, 62.4, 34.3, 41.9, 39.2, 39.8, 5.4, 51.2, 49.3, 34.3, 63.9, 40.6, 57.0, 53.1, 56.2, 62.1, 58.5, 44.0, 32.2, 32.1, 47.8, 45.3, 57.6, 56.8, 56.9, 58.5, 47.7, 45.4, 41.4, 43.5, 37.7, 49.9, 65.1, 53.3, 65.4, 40.4, 48.8, 38.6, 55.1, 61.8, 60.7, 52.1, 58.1, 30.7, 44.0, 38.8, 68.6, 48.8, 69.9], \"xaxis\": \"x\", \"y\": [44.8, 56.8, 55.8, 48.6, 67.5, 63.6, 72.9, 63.4, 66.0, 57.1, 48.9, 77.5, 48.5, 64.4, 50.9, 60.0, 58.3, 56.0, 44.5, 72.0, 67.6, 76.2, 57.8, 65.4, 42.8, 51.2, 54.4, 60.1, 54.8, 75.0, 71.2, 69.2, 64.9, 52.4, 52.8, 54.8, 52.4, 62.9, 68.5, 69.5, 49.3, 60.8, 47.6, 55.0, 59.0, 78.9, 64.8, 65.9, 47.3, 60.9, 45.9], \"yaxis\": \"y\"}, {\"hovertemplate\": \"<b>OLS trendline</b><br>Percent of 18+ with at least One Dose = -0.590422 * Percent Republican Vote + 88.6043<br>R<sup>2</sup>=0.567116<br><br>Percent Republican Vote=%{x}<br>Percent of 18+ with at least One Dose=%{y} <b>(trend)</b><extra></extra>\", \"legendgroup\": \"\", \"line\": {\"color\": \"SlateGray\"}, \"marker\": {\"symbol\": \"circle\"}, \"mode\": \"lines\", \"name\": \"\", \"showlegend\": false, \"type\": \"scatter\", \"x\": [5.4, 30.7, 32.1, 32.2, 34.3, 34.3, 37.7, 38.6, 38.8, 39.2, 39.8, 40.4, 40.6, 41.4, 41.9, 43.5, 44.0, 44.0, 45.3, 45.4, 47.7, 47.8, 48.8, 48.8, 49.1, 49.3, 49.9, 51.2, 52.1, 52.8, 53.1, 53.3, 55.1, 56.2, 56.8, 56.9, 57.0, 57.6, 58.1, 58.5, 58.5, 60.7, 61.8, 62.0, 62.1, 62.4, 63.9, 65.1, 65.4, 68.6, 69.9], \"xaxis\": \"x\", \"y\": [85.41600396611501, 70.47832556745826, 69.65173466792785, 69.59269246081854, 68.35280611152291, 68.35280611152291, 66.34537106980619, 65.81399120582236, 65.69590679160373, 65.45973796316648, 65.10548472051059, 64.75123147785469, 64.63314706363606, 64.16080940676153, 63.86559837121496, 62.92092305746591, 62.62571202191934, 62.62571202191934, 61.85816332949824, 61.799121122388925, 60.44115035887468, 60.382108151765365, 59.79168608067221, 59.79168608067221, 59.614559459344264, 59.496475045125635, 59.14222180246974, 58.37467311004865, 57.8432932460648, 57.4299977962996, 57.25287117497166, 57.13478676075303, 56.07202703278535, 55.422562754582884, 55.06830951192699, 55.009267304817676, 54.95022509770836, 54.59597185505247, 54.300760819505896, 54.06459199106863, 54.06459199106863, 52.7656634346637, 52.116199156461235, 51.9981147422426, 51.939072535133285, 51.76194591380534, 50.87631280716561, 50.16780632185383, 49.99067970052588, 48.1013290730278, 47.3337803806067], \"yaxis\": \"y\"}],                        {\"coloraxis\": {\"cmax\": 69.9, \"cmin\": 30.4, \"colorbar\": {\"title\": {\"text\": \"Percent Republican Vote\"}}, \"colorscale\": [[0.0, \"rgb(5,48,97)\"], [0.1, \"rgb(33,102,172)\"], [0.2, \"rgb(67,147,195)\"], [0.3, \"rgb(146,197,222)\"], [0.4, \"rgb(209,229,240)\"], [0.5, \"rgb(247,247,247)\"], [0.6, \"rgb(253,219,199)\"], [0.7, \"rgb(244,165,130)\"], [0.8, \"rgb(214,96,77)\"], [0.9, \"rgb(178,24,43)\"], [1.0, \"rgb(103,0,31)\"]]}, \"legend\": {\"itemsizing\": \"constant\", \"tracegroupgap\": 0}, \"template\": {\"data\": {\"bar\": [{\"error_x\": {\"color\": \"#2a3f5f\"}, \"error_y\": {\"color\": \"#2a3f5f\"}, \"marker\": {\"line\": {\"color\": \"#E5ECF6\", \"width\": 0.5}}, \"type\": \"bar\"}], \"barpolar\": [{\"marker\": {\"line\": {\"color\": \"#E5ECF6\", \"width\": 0.5}}, \"type\": \"barpolar\"}], \"carpet\": [{\"aaxis\": {\"endlinecolor\": \"#2a3f5f\", \"gridcolor\": \"white\", \"linecolor\": \"white\", \"minorgridcolor\": \"white\", \"startlinecolor\": \"#2a3f5f\"}, \"baxis\": {\"endlinecolor\": \"#2a3f5f\", \"gridcolor\": \"white\", \"linecolor\": \"white\", \"minorgridcolor\": \"white\", \"startlinecolor\": \"#2a3f5f\"}, \"type\": \"carpet\"}], \"choropleth\": [{\"colorbar\": {\"outlinewidth\": 0, \"ticks\": \"\"}, \"type\": \"choropleth\"}], \"contour\": [{\"colorbar\": {\"outlinewidth\": 0, \"ticks\": \"\"}, \"colorscale\": [[0.0, \"#0d0887\"], [0.1111111111111111, \"#46039f\"], [0.2222222222222222, \"#7201a8\"], [0.3333333333333333, \"#9c179e\"], [0.4444444444444444, \"#bd3786\"], [0.5555555555555556, \"#d8576b\"], [0.6666666666666666, \"#ed7953\"], [0.7777777777777778, \"#fb9f3a\"], [0.8888888888888888, \"#fdca26\"], [1.0, \"#f0f921\"]], \"type\": \"contour\"}], \"contourcarpet\": [{\"colorbar\": {\"outlinewidth\": 0, \"ticks\": \"\"}, \"type\": \"contourcarpet\"}], \"heatmap\": [{\"colorbar\": {\"outlinewidth\": 0, \"ticks\": \"\"}, \"colorscale\": [[0.0, \"#0d0887\"], [0.1111111111111111, \"#46039f\"], [0.2222222222222222, \"#7201a8\"], [0.3333333333333333, \"#9c179e\"], [0.4444444444444444, \"#bd3786\"], [0.5555555555555556, \"#d8576b\"], [0.6666666666666666, \"#ed7953\"], [0.7777777777777778, \"#fb9f3a\"], [0.8888888888888888, \"#fdca26\"], [1.0, \"#f0f921\"]], \"type\": \"heatmap\"}], \"heatmapgl\": [{\"colorbar\": {\"outlinewidth\": 0, \"ticks\": \"\"}, \"colorscale\": [[0.0, \"#0d0887\"], [0.1111111111111111, \"#46039f\"], [0.2222222222222222, \"#7201a8\"], [0.3333333333333333, \"#9c179e\"], [0.4444444444444444, \"#bd3786\"], [0.5555555555555556, \"#d8576b\"], [0.6666666666666666, \"#ed7953\"], [0.7777777777777778, \"#fb9f3a\"], [0.8888888888888888, \"#fdca26\"], [1.0, \"#f0f921\"]], \"type\": \"heatmapgl\"}], \"histogram\": [{\"marker\": {\"colorbar\": {\"outlinewidth\": 0, \"ticks\": \"\"}}, \"type\": \"histogram\"}], \"histogram2d\": [{\"colorbar\": {\"outlinewidth\": 0, \"ticks\": \"\"}, \"colorscale\": [[0.0, \"#0d0887\"], [0.1111111111111111, \"#46039f\"], [0.2222222222222222, \"#7201a8\"], [0.3333333333333333, \"#9c179e\"], [0.4444444444444444, \"#bd3786\"], [0.5555555555555556, \"#d8576b\"], [0.6666666666666666, \"#ed7953\"], [0.7777777777777778, \"#fb9f3a\"], [0.8888888888888888, \"#fdca26\"], [1.0, \"#f0f921\"]], \"type\": \"histogram2d\"}], \"histogram2dcontour\": [{\"colorbar\": {\"outlinewidth\": 0, \"ticks\": \"\"}, \"colorscale\": [[0.0, \"#0d0887\"], [0.1111111111111111, \"#46039f\"], [0.2222222222222222, \"#7201a8\"], [0.3333333333333333, \"#9c179e\"], [0.4444444444444444, \"#bd3786\"], [0.5555555555555556, \"#d8576b\"], [0.6666666666666666, \"#ed7953\"], [0.7777777777777778, \"#fb9f3a\"], [0.8888888888888888, \"#fdca26\"], [1.0, \"#f0f921\"]], \"type\": \"histogram2dcontour\"}], \"mesh3d\": [{\"colorbar\": {\"outlinewidth\": 0, \"ticks\": \"\"}, \"type\": \"mesh3d\"}], \"parcoords\": [{\"line\": {\"colorbar\": {\"outlinewidth\": 0, \"ticks\": \"\"}}, \"type\": \"parcoords\"}], \"pie\": [{\"automargin\": true, \"type\": \"pie\"}], \"scatter\": [{\"marker\": {\"colorbar\": {\"outlinewidth\": 0, \"ticks\": \"\"}}, \"type\": \"scatter\"}], \"scatter3d\": [{\"line\": {\"colorbar\": {\"outlinewidth\": 0, \"ticks\": \"\"}}, \"marker\": {\"colorbar\": {\"outlinewidth\": 0, \"ticks\": \"\"}}, \"type\": \"scatter3d\"}], \"scattercarpet\": [{\"marker\": {\"colorbar\": {\"outlinewidth\": 0, \"ticks\": \"\"}}, \"type\": \"scattercarpet\"}], \"scattergeo\": [{\"marker\": {\"colorbar\": {\"outlinewidth\": 0, \"ticks\": \"\"}}, \"type\": \"scattergeo\"}], \"scattergl\": [{\"marker\": {\"colorbar\": {\"outlinewidth\": 0, \"ticks\": \"\"}}, \"type\": \"scattergl\"}], \"scattermapbox\": [{\"marker\": {\"colorbar\": {\"outlinewidth\": 0, \"ticks\": \"\"}}, \"type\": \"scattermapbox\"}], \"scatterpolar\": [{\"marker\": {\"colorbar\": {\"outlinewidth\": 0, \"ticks\": \"\"}}, \"type\": \"scatterpolar\"}], \"scatterpolargl\": [{\"marker\": {\"colorbar\": {\"outlinewidth\": 0, \"ticks\": \"\"}}, \"type\": \"scatterpolargl\"}], \"scatterternary\": [{\"marker\": {\"colorbar\": {\"outlinewidth\": 0, \"ticks\": \"\"}}, \"type\": \"scatterternary\"}], \"surface\": [{\"colorbar\": {\"outlinewidth\": 0, \"ticks\": \"\"}, \"colorscale\": [[0.0, \"#0d0887\"], [0.1111111111111111, \"#46039f\"], [0.2222222222222222, \"#7201a8\"], [0.3333333333333333, \"#9c179e\"], [0.4444444444444444, \"#bd3786\"], [0.5555555555555556, \"#d8576b\"], [0.6666666666666666, \"#ed7953\"], [0.7777777777777778, \"#fb9f3a\"], [0.8888888888888888, \"#fdca26\"], [1.0, \"#f0f921\"]], \"type\": \"surface\"}], \"table\": [{\"cells\": {\"fill\": {\"color\": \"#EBF0F8\"}, \"line\": {\"color\": \"white\"}}, \"header\": {\"fill\": {\"color\": \"#C8D4E3\"}, \"line\": {\"color\": \"white\"}}, \"type\": \"table\"}]}, \"layout\": {\"annotationdefaults\": {\"arrowcolor\": \"#2a3f5f\", \"arrowhead\": 0, \"arrowwidth\": 1}, \"autotypenumbers\": \"strict\", \"coloraxis\": {\"colorbar\": {\"outlinewidth\": 0, \"ticks\": \"\"}}, \"colorscale\": {\"diverging\": [[0, \"#8e0152\"], [0.1, \"#c51b7d\"], [0.2, \"#de77ae\"], [0.3, \"#f1b6da\"], [0.4, \"#fde0ef\"], [0.5, \"#f7f7f7\"], [0.6, \"#e6f5d0\"], [0.7, \"#b8e186\"], [0.8, \"#7fbc41\"], [0.9, \"#4d9221\"], [1, \"#276419\"]], \"sequential\": [[0.0, \"#0d0887\"], [0.1111111111111111, \"#46039f\"], [0.2222222222222222, \"#7201a8\"], [0.3333333333333333, \"#9c179e\"], [0.4444444444444444, \"#bd3786\"], [0.5555555555555556, \"#d8576b\"], [0.6666666666666666, \"#ed7953\"], [0.7777777777777778, \"#fb9f3a\"], [0.8888888888888888, \"#fdca26\"], [1.0, \"#f0f921\"]], \"sequentialminus\": [[0.0, \"#0d0887\"], [0.1111111111111111, \"#46039f\"], [0.2222222222222222, \"#7201a8\"], [0.3333333333333333, \"#9c179e\"], [0.4444444444444444, \"#bd3786\"], [0.5555555555555556, \"#d8576b\"], [0.6666666666666666, \"#ed7953\"], [0.7777777777777778, \"#fb9f3a\"], [0.8888888888888888, \"#fdca26\"], [1.0, \"#f0f921\"]]}, \"colorway\": [\"#636efa\", \"#EF553B\", \"#00cc96\", \"#ab63fa\", \"#FFA15A\", \"#19d3f3\", \"#FF6692\", \"#B6E880\", \"#FF97FF\", \"#FECB52\"], \"font\": {\"color\": \"#2a3f5f\"}, \"geo\": {\"bgcolor\": \"white\", \"lakecolor\": \"white\", \"landcolor\": \"#E5ECF6\", \"showlakes\": true, \"showland\": true, \"subunitcolor\": \"white\"}, \"hoverlabel\": {\"align\": \"left\"}, \"hovermode\": \"closest\", \"mapbox\": {\"style\": \"light\"}, \"paper_bgcolor\": \"white\", \"plot_bgcolor\": \"#E5ECF6\", \"polar\": {\"angularaxis\": {\"gridcolor\": \"white\", \"linecolor\": \"white\", \"ticks\": \"\"}, \"bgcolor\": \"#E5ECF6\", \"radialaxis\": {\"gridcolor\": \"white\", \"linecolor\": \"white\", \"ticks\": \"\"}}, \"scene\": {\"xaxis\": {\"backgroundcolor\": \"#E5ECF6\", \"gridcolor\": \"white\", \"gridwidth\": 2, \"linecolor\": \"white\", \"showbackground\": true, \"ticks\": \"\", \"zerolinecolor\": \"white\"}, \"yaxis\": {\"backgroundcolor\": \"#E5ECF6\", \"gridcolor\": \"white\", \"gridwidth\": 2, \"linecolor\": \"white\", \"showbackground\": true, \"ticks\": \"\", \"zerolinecolor\": \"white\"}, \"zaxis\": {\"backgroundcolor\": \"#E5ECF6\", \"gridcolor\": \"white\", \"gridwidth\": 2, \"linecolor\": \"white\", \"showbackground\": true, \"ticks\": \"\", \"zerolinecolor\": \"white\"}}, \"shapedefaults\": {\"line\": {\"color\": \"#2a3f5f\"}}, \"ternary\": {\"aaxis\": {\"gridcolor\": \"white\", \"linecolor\": \"white\", \"ticks\": \"\"}, \"baxis\": {\"gridcolor\": \"white\", \"linecolor\": \"white\", \"ticks\": \"\"}, \"bgcolor\": \"#E5ECF6\", \"caxis\": {\"gridcolor\": \"white\", \"linecolor\": \"white\", \"ticks\": \"\"}}, \"title\": {\"x\": 0.05}, \"xaxis\": {\"automargin\": true, \"gridcolor\": \"white\", \"linecolor\": \"white\", \"ticks\": \"\", \"title\": {\"standoff\": 15}, \"zerolinecolor\": \"white\", \"zerolinewidth\": 2}, \"yaxis\": {\"automargin\": true, \"gridcolor\": \"white\", \"linecolor\": \"white\", \"ticks\": \"\", \"title\": {\"standoff\": 15}, \"zerolinecolor\": \"white\", \"zerolinewidth\": 2}}}, \"title\": {\"text\": \"Republican Vote in 2020 Presidential Election vs. Covid-19 Vaccination\"}, \"xaxis\": {\"anchor\": \"y\", \"domain\": [0.0, 1.0], \"title\": {\"text\": \"Percent Republican Vote\"}}, \"yaxis\": {\"anchor\": \"x\", \"domain\": [0.0, 1.0], \"title\": {\"text\": \"Percent of 18+ with at least One Dose\"}}},                        {\"responsive\": true}                    ).then(function(){\n",
       "                            \n",
       "var gd = document.getElementById('85f3dd98-dc9e-4b42-9bb4-117481e83f2f');\n",
       "var x = new MutationObserver(function (mutations, observer) {{\n",
       "        var display = window.getComputedStyle(gd).display;\n",
       "        if (!display || display === 'none') {{\n",
       "            console.log([gd, 'removed!']);\n",
       "            Plotly.purge(gd);\n",
       "            observer.disconnect();\n",
       "        }}\n",
       "}});\n",
       "\n",
       "// Listen for the removal of the full notebook cells\n",
       "var notebookContainer = gd.closest('#notebook-container');\n",
       "if (notebookContainer) {{\n",
       "    x.observe(notebookContainer, {childList: true});\n",
       "}}\n",
       "\n",
       "// Listen for the clearing of the current output cell\n",
       "var outputEl = gd.closest('.output');\n",
       "if (outputEl) {{\n",
       "    x.observe(outputEl, {childList: true});\n",
       "}}\n",
       "\n",
       "                        })                };                });            </script>        </div>"
      ]
     },
     "metadata": {},
     "output_type": "display_data"
    }
   ],
   "source": [
    "px.scatter(votevax, x=\"Percent Republican Vote\", y=\"Percent of 18+ with at least One Dose\",\n",
    "           size=\"Population\", size_max=50,\n",
    "           color=\"Percent Republican Vote\", color_continuous_scale=\"RdBu_r\", range_color=[color_min, color_max],\n",
    "           hover_name=\"State\",\n",
    "           trendline=\"ols\", trendline_color_override=\"SlateGray\",\n",
    "           title=\"Republican Vote in 2020 Presidential Election vs. Covid-19 Vaccination\"  \n",
    "          )"
   ]
  },
  {
   "cell_type": "markdown",
   "id": "compatible-engineer",
   "metadata": {},
   "source": [
    "Hovering over the regression line reveals that:\n",
    "\n",
    "> (% with at least one dose of vaccine) = -0.59 * (% voted Republican in the 2020 Presidental Election) + 88.60\n",
    "\n",
    "The regression has an R<sup>2</sup> of 0.567.\n",
    "\n",
    "To calculate the correlation, I ran the same data through Scipy's Pearson correlation function."
   ]
  },
  {
   "cell_type": "code",
   "execution_count": 151,
   "id": "nearby-dodge",
   "metadata": {},
   "outputs": [
    {
     "name": "stdout",
     "output_type": "stream",
     "text": [
      "Pearson's R is -0.75 with a p-value of 1.8306451879635464e-10.\n"
     ]
    }
   ],
   "source": [
    "R, p = pearsonr(votevax[\"Percent Republican Vote\"], votevax[\"Percent of 18+ with at least One Dose\"])\n",
    "print(f\"Pearson's R is {R:.2f} with a p-value of {p}.\")"
   ]
  },
  {
   "cell_type": "markdown",
   "id": "alpine-dependence",
   "metadata": {},
   "source": [
    "Correlation is not causation, of course, but the percentage of a state's population who voted for Trump in 2020 does appear to be negatively correlated with the percentage of that state's population who has received at least one dose of Covid-19 vaccine.\n",
    "\n",
    "Alissa McFarlin 5/20/2021"
   ]
  }
 ],
 "metadata": {
  "kernelspec": {
   "display_name": "Python 3",
   "language": "python",
   "name": "python3"
  },
  "language_info": {
   "codemirror_mode": {
    "name": "ipython",
    "version": 3
   },
   "file_extension": ".py",
   "mimetype": "text/x-python",
   "name": "python",
   "nbconvert_exporter": "python",
   "pygments_lexer": "ipython3",
   "version": "3.8.5"
  }
 },
 "nbformat": 4,
 "nbformat_minor": 5
}
